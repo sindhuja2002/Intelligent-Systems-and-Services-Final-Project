{
 "cells": [
  {
   "cell_type": "markdown",
   "id": "9771571c",
   "metadata": {},
   "source": [
    "# Fake News Detection - Complete Project\n",
    "\n",
    "This notebook includes:\n",
    "- Data Preprocessing\n",
    "- Simple Model (Naive Bayes with TF-IDF)\n",
    "- Advanced Model (DistilBERT)\n",
    "- Evaluation on FakeNewsCorpus and LIAR Dataset\n",
    "- Saving & Loading Models"
   ]
  },
  {
   "cell_type": "code",
   "execution_count": 1,
   "id": "d7870c65",
   "metadata": {},
   "outputs": [
    {
     "name": "stderr",
     "output_type": "stream",
     "text": [
      "[nltk_data] Downloading package stopwords to\n",
      "[nltk_data]     C:\\Users\\sindh\\AppData\\Roaming\\nltk_data...\n",
      "[nltk_data]   Package stopwords is already up-to-date!\n"
     ]
    },
    {
     "data": {
      "text/plain": [
       "True"
      ]
     },
     "execution_count": 1,
     "metadata": {},
     "output_type": "execute_result"
    }
   ],
   "source": [
    "# Step 1: Import Libraries\n",
    "import pandas as pd\n",
    "import numpy as np\n",
    "import nltk\n",
    "import joblib\n",
    "\n",
    "from sklearn.model_selection import train_test_split\n",
    "from sklearn.pipeline import Pipeline\n",
    "from sklearn.feature_extraction.text import TfidfVectorizer\n",
    "from sklearn.naive_bayes import MultinomialNB\n",
    "from sklearn.metrics import classification_report\n",
    "\n",
    "nltk.download('stopwords')"
   ]
  },
  {
   "cell_type": "markdown",
   "id": "f3bb1b4a",
   "metadata": {},
   "source": [
    "### Step 2: Load and Explore Data"
   ]
  },
  {
   "cell_type": "code",
   "execution_count": 2,
   "id": "a4fb5863",
   "metadata": {},
   "outputs": [],
   "source": [
    "df = pd.read_csv(r\"D:\\1_LUT_Masters\\2 Spring 2025\\Intelligent Systems\\Project\\code\\preprocessed_news.csv\")"
   ]
  },
  {
   "cell_type": "code",
   "execution_count": 3,
   "id": "41cddd69",
   "metadata": {},
   "outputs": [
    {
     "data": {
      "text/html": [
       "<div>\n",
       "<style scoped>\n",
       "    .dataframe tbody tr th:only-of-type {\n",
       "        vertical-align: middle;\n",
       "    }\n",
       "\n",
       "    .dataframe tbody tr th {\n",
       "        vertical-align: top;\n",
       "    }\n",
       "\n",
       "    .dataframe thead th {\n",
       "        text-align: right;\n",
       "    }\n",
       "</style>\n",
       "<table border=\"1\" class=\"dataframe\">\n",
       "  <thead>\n",
       "    <tr style=\"text-align: right;\">\n",
       "      <th></th>\n",
       "      <th>content</th>\n",
       "      <th>type</th>\n",
       "      <th>processed_content</th>\n",
       "    </tr>\n",
       "  </thead>\n",
       "  <tbody>\n",
       "    <tr>\n",
       "      <th>0</th>\n",
       "      <td>The Mainstream Media has always been a Propaga...</td>\n",
       "      <td>fake</td>\n",
       "      <td>mainstream media alway propaganda tool establi...</td>\n",
       "    </tr>\n",
       "    <tr>\n",
       "      <th>1</th>\n",
       "      <td>Could Islam Destroy America?\\n\\nHeadline: Bitc...</td>\n",
       "      <td>fake</td>\n",
       "      <td>could islam destroy america headlin bitcoin bl...</td>\n",
       "    </tr>\n",
       "    <tr>\n",
       "      <th>2</th>\n",
       "      <td>SC barber, customers fire on, kill robbery sus...</td>\n",
       "      <td>fake</td>\n",
       "      <td>sc barber custom fire kill robberi suspect kid...</td>\n",
       "    </tr>\n",
       "    <tr>\n",
       "      <th>3</th>\n",
       "      <td>Camping Bus\\n\\n% of readers think this story i...</td>\n",
       "      <td>fake</td>\n",
       "      <td>camp bu reader think stori fact add two cent h...</td>\n",
       "    </tr>\n",
       "    <tr>\n",
       "      <th>4</th>\n",
       "      <td>Take heart, Sanders supporters. We’re down, bu...</td>\n",
       "      <td>political</td>\n",
       "      <td>take heart sander support berni difficult path...</td>\n",
       "    </tr>\n",
       "  </tbody>\n",
       "</table>\n",
       "</div>"
      ],
      "text/plain": [
       "                                             content       type  \\\n",
       "0  The Mainstream Media has always been a Propaga...       fake   \n",
       "1  Could Islam Destroy America?\\n\\nHeadline: Bitc...       fake   \n",
       "2  SC barber, customers fire on, kill robbery sus...       fake   \n",
       "3  Camping Bus\\n\\n% of readers think this story i...       fake   \n",
       "4  Take heart, Sanders supporters. We’re down, bu...  political   \n",
       "\n",
       "                                   processed_content  \n",
       "0  mainstream media alway propaganda tool establi...  \n",
       "1  could islam destroy america headlin bitcoin bl...  \n",
       "2  sc barber custom fire kill robberi suspect kid...  \n",
       "3  camp bu reader think stori fact add two cent h...  \n",
       "4  take heart sander support berni difficult path...  "
      ]
     },
     "execution_count": 3,
     "metadata": {},
     "output_type": "execute_result"
    }
   ],
   "source": [
    "df.head()"
   ]
  },
  {
   "cell_type": "code",
   "execution_count": 4,
   "id": "f97d7465",
   "metadata": {},
   "outputs": [
    {
     "name": "stdout",
     "output_type": "stream",
     "text": [
      "Index(['content', 'type', 'processed_content'], dtype='object')\n"
     ]
    }
   ],
   "source": [
    "print(df.columns)"
   ]
  },
  {
   "cell_type": "markdown",
   "id": "6569f952",
   "metadata": {},
   "source": [
    "### Step 3: Preprocessing & Label Mapping"
   ]
  },
  {
   "cell_type": "code",
   "execution_count": 5,
   "id": "8b42e947",
   "metadata": {},
   "outputs": [],
   "source": [
    "label_mapping = {\n",
    "    'fake': 'fake', 'political': 'fake', 'conspiracy': 'fake', 'bias': 'fake',\n",
    "    'satire': 'fake', 'clickbait': 'fake', 'junksci': 'fake', 'unreliable': 'fake',\n",
    "    'hate': 'fake', 'unknown': 'fake', 'rumor': 'fake', 'reliable': 'reliable'\n",
    "}\n",
    "df['binary_label'] = df['type'].map(label_mapping)\n"
   ]
  },
  {
   "cell_type": "markdown",
   "id": "6ac717c7",
   "metadata": {},
   "source": [
    "### Step 4: Simple Baseline Model (TF-IDF + Naive Bayes)"
   ]
  },
  {
   "cell_type": "code",
   "execution_count": 6,
   "id": "d1c5d400",
   "metadata": {},
   "outputs": [
    {
     "name": "stdout",
     "output_type": "stream",
     "text": [
      "              precision    recall  f1-score   support\n",
      "\n",
      "        fake       0.88      0.99      0.93    124302\n",
      "    reliable       0.96      0.55      0.70     38241\n",
      "\n",
      "    accuracy                           0.89    162543\n",
      "   macro avg       0.92      0.77      0.82    162543\n",
      "weighted avg       0.90      0.89      0.88    162543\n",
      "\n"
     ]
    }
   ],
   "source": [
    "train_df, val_df = train_test_split(df, test_size=0.2, stratify=df['binary_label'], random_state=42)\n",
    "\n",
    "model = Pipeline([\n",
    "    ('tfidf', TfidfVectorizer(max_features=1000)),\n",
    "    ('nb', MultinomialNB())\n",
    "])\n",
    "model.fit(train_df['content'], train_df['binary_label'])\n",
    "preds = model.predict(val_df['content'])\n",
    "print(classification_report(val_df['binary_label'], preds))\n"
   ]
  },
  {
   "cell_type": "markdown",
   "id": "79fbeb2c",
   "metadata": {},
   "source": [
    "### Step 5: Save Simple Model"
   ]
  },
  {
   "cell_type": "code",
   "execution_count": 7,
   "id": "6f5f6f7b",
   "metadata": {},
   "outputs": [
    {
     "data": {
      "text/plain": [
       "['simple_model.joblib']"
      ]
     },
     "execution_count": 7,
     "metadata": {},
     "output_type": "execute_result"
    }
   ],
   "source": [
    "joblib.dump(model, 'simple_model.joblib')"
   ]
  },
  {
   "cell_type": "markdown",
   "id": "07a74d63",
   "metadata": {},
   "source": [
    "### Step 6: Load Pretrained DistilBERT Advanced Model"
   ]
  },
  {
   "cell_type": "code",
   "execution_count": 8,
   "id": "0ed5d98b",
   "metadata": {},
   "outputs": [
    {
     "name": "stdout",
     "output_type": "stream",
     "text": [
      "Torch: 2.5.1+cu121\n",
      "CUDA: 12.1\n",
      "CUDA available: True\n",
      "GPU: NVIDIA GeForce GTX 1660 Ti\n"
     ]
    }
   ],
   "source": [
    "import torch\n",
    "print(\"Torch:\", torch.__version__)\n",
    "print(\"CUDA:\", torch.version.cuda)\n",
    "print(\"CUDA available:\", torch.cuda.is_available())\n",
    "print(\"GPU:\", torch.cuda.get_device_name(0))\n"
   ]
  },
  {
   "cell_type": "code",
   "execution_count": 9,
   "id": "8cf4cc60",
   "metadata": {},
   "outputs": [
    {
     "name": "stderr",
     "output_type": "stream",
     "text": [
      "d:\\1_LUT_Masters\\2 Spring 2025\\Intelligent Systems\\Project\\.venv\\lib\\site-packages\\tqdm\\auto.py:21: TqdmWarning: IProgress not found. Please update jupyter and ipywidgets. See https://ipywidgets.readthedocs.io/en/stable/user_install.html\n",
      "  from .autonotebook import tqdm as notebook_tqdm\n"
     ]
    }
   ],
   "source": [
    "from torch.utils.data import Dataset\n",
    "from transformers import DistilBertTokenizerFast, DistilBertForSequenceClassification, Trainer, TrainingArguments\n",
    "from sklearn.metrics import accuracy_score, precision_recall_fscore_support\n",
    "from tqdm import tqdm"
   ]
  },
  {
   "cell_type": "code",
   "execution_count": 10,
   "id": "3dfbe6cb",
   "metadata": {},
   "outputs": [
    {
     "name": "stdout",
     "output_type": "stream",
     "text": [
      "Total rows in dataset: 20671771\n"
     ]
    }
   ],
   "source": [
    "# Step 1: Get total rows\n",
    "n_rows = sum(1 for _ in open(r'D:\\1_LUT_Masters\\2 Spring 2025\\Intelligent Systems\\Project\\code\\preprocessed_news.csv', 'r', encoding='utf-8', errors='ignore')) - 1\n",
    "print(f\"Total rows in dataset: {n_rows}\")"
   ]
  },
  {
   "cell_type": "code",
   "execution_count": 11,
   "id": "964370c2",
   "metadata": {},
   "outputs": [
    {
     "name": "stdout",
     "output_type": "stream",
     "text": [
      "Available system RAM: 4.22 GB\n"
     ]
    }
   ],
   "source": [
    "#  Step 2: Get available RAM\n",
    "import psutil\n",
    "ram_gb = psutil.virtual_memory().available / 1e9\n",
    "print(f\"Available system RAM: {ram_gb:.2f} GB\")"
   ]
  },
  {
   "cell_type": "code",
   "execution_count": 12,
   "id": "cba75389",
   "metadata": {},
   "outputs": [
    {
     "name": "stdout",
     "output_type": "stream",
     "text": [
      "Recommended chunk size: 516794\n"
     ]
    }
   ],
   "source": [
    "#  Step 3: Estimate optimal chunk size\n",
    "if ram_gb >= 16:\n",
    "    chunk_size = int(n_rows / 10)\n",
    "elif 8 <= ram_gb < 16:\n",
    "    chunk_size = int(n_rows / 20)\n",
    "else:\n",
    "    chunk_size = int(n_rows / 40)\n",
    "\n",
    "print(f\"Recommended chunk size: {chunk_size}\")"
   ]
  },
  {
   "cell_type": "code",
   "execution_count": 13,
   "id": "e475366d",
   "metadata": {},
   "outputs": [],
   "source": [
    "from transformers import logging\n",
    "logging.set_verbosity_error()"
   ]
  },
  {
   "cell_type": "code",
   "execution_count": 14,
   "id": "a6c8c59a",
   "metadata": {},
   "outputs": [],
   "source": [
    "# Safety check\n",
    "import os\n",
    "assert not os.path.exists(\"torch.py\"), \"You have a file named 'torch.py' — rename it to avoid import conflicts.\""
   ]
  },
  {
   "cell_type": "code",
   "execution_count": 15,
   "id": "115aa6c9",
   "metadata": {},
   "outputs": [],
   "source": [
    "# Parameters\n",
    "super_chunk_size = 516_794/2\n",
    "sub_chunk_parts = 5\n",
    "sub_chunk_size = super_chunk_size // sub_chunk_parts"
   ]
  },
  {
   "cell_type": "code",
   "execution_count": 16,
   "id": "54e8ee04",
   "metadata": {},
   "outputs": [],
   "source": [
    "# Setup\n",
    "device = torch.device(\"cuda\" if torch.cuda.is_available() else \"cpu\")"
   ]
  },
  {
   "cell_type": "code",
   "execution_count": 17,
   "id": "344e3bbb",
   "metadata": {},
   "outputs": [],
   "source": [
    "#  Dataset class\n",
    "class NewsDataset(Dataset):\n",
    "    def __init__(self, encodings, labels):\n",
    "        self.encodings = encodings\n",
    "        self.labels = labels\n",
    "\n",
    "    def __len__(self):\n",
    "        return len(self.labels)\n",
    "\n",
    "    def __getitem__(self, idx):\n",
    "        return {\n",
    "            'input_ids': self.encodings['input_ids'][idx],\n",
    "            'attention_mask': self.encodings['attention_mask'][idx],\n",
    "            'labels': self.labels[idx]\n",
    "        }"
   ]
  },
  {
   "cell_type": "code",
   "execution_count": 18,
   "id": "40aecdc9",
   "metadata": {},
   "outputs": [],
   "source": [
    "#  Tokenizer function\n",
    "tokenizer = DistilBertTokenizerFast.from_pretrained('distilbert-base-uncased')\n",
    "def tokenize_texts(texts, max_length=64):\n",
    "    return tokenizer(\n",
    "        texts,\n",
    "        max_length=max_length,\n",
    "        padding='max_length',\n",
    "        truncation=True,\n",
    "        return_tensors='pt'\n",
    "    )"
   ]
  },
  {
   "cell_type": "code",
   "execution_count": 19,
   "id": "2f99b708",
   "metadata": {},
   "outputs": [
    {
     "name": "stderr",
     "output_type": "stream",
     "text": [
      "d:\\1_LUT_Masters\\2 Spring 2025\\Intelligent Systems\\Project\\.venv\\lib\\site-packages\\numpy\\_core\\fromnumeric.py:57: FutureWarning: 'DataFrame.swapaxes' is deprecated and will be removed in a future version. Please use 'DataFrame.transpose' instead.\n",
      "  return bound(*args, **kwds)\n",
      "C:\\Users\\sindh\\AppData\\Local\\Temp\\ipykernel_6932\\1706702242.py:21: SettingWithCopyWarning: \n",
      "A value is trying to be set on a copy of a slice from a DataFrame.\n",
      "Try using .loc[row_indexer,col_indexer] = value instead\n",
      "\n",
      "See the caveats in the documentation: https://pandas.pydata.org/pandas-docs/stable/user_guide/indexing.html#returning-a-view-versus-a-copy\n",
      "  chunk['label'] = chunk['label'].astype(int)\n"
     ]
    },
    {
     "name": "stdout",
     "output_type": "stream",
     "text": [
      "{'loss': 0.1339, 'grad_norm': 1.6973395347595215, 'learning_rate': 5.700934579439252e-06, 'epoch': 0.8928571428571429}\n",
      "{'train_runtime': 562.219, 'train_samples_per_second': 31.867, 'train_steps_per_second': 1.992, 'train_loss': 0.12865217328071593, 'epoch': 1.0}\n",
      "\n",
      "Training Completed\n",
      "\n",
      " Final Classification Report :\n",
      "              precision    recall  f1-score   support\n",
      "\n",
      "        fake       0.99      0.92      0.96      1481\n",
      "   political       0.96      1.00      0.98      2999\n",
      "\n",
      "    accuracy                           0.97      4480\n",
      "   macro avg       0.98      0.96      0.97      4480\n",
      "weighted avg       0.97      0.97      0.97      4480\n",
      "\n",
      "Stopping by user request.\n"
     ]
    }
   ],
   "source": [
    "# Function to save model and tokenizer\n",
    "def save_model_and_tokenizer(model, tokenizer, super_chunk_num, sub_i):\n",
    "    model.save_pretrained(f'./saved_advanced_model_sc{super_chunk_num}_sub{sub_i}')\n",
    "    tokenizer.save_pretrained(f'./saved_advanced_model_sc{super_chunk_num}_sub{sub_i}')\n",
    "\n",
    "# Training loop\n",
    "def train_on_chunks(file_path):\n",
    "    reader = pd.read_csv(file_path, chunksize=super_chunk_size)\n",
    "    super_chunk_num = 1\n",
    "\n",
    "    for super_chunk in reader:\n",
    "    \n",
    "        sub_chunks = np.array_split(super_chunk, sub_chunk_parts)\n",
    "\n",
    "        for sub_i, chunk in enumerate(sub_chunks, start=1):\n",
    "            \n",
    "\n",
    "\n",
    "            chunk['label'] = chunk['type'].map({'fake': 0, 'political': 1})\n",
    "            chunk = chunk.dropna(subset=['label'])\n",
    "            chunk['label'] = chunk['label'].astype(int)\n",
    "\n",
    "            if chunk.empty:\n",
    "                print(f\"Skipped Sub-Chunk {sub_i} (no valid rows)\")\n",
    "                continue\n",
    "\n",
    "            texts = chunk['content'].astype(str).tolist()\n",
    "            labels = torch.tensor(chunk['label'].values)\n",
    "            encodings = tokenize_texts(texts)\n",
    "\n",
    "            try:\n",
    "                train_idx, test_idx = train_test_split(\n",
    "                    np.arange(len(labels)),\n",
    "                    test_size=0.2,\n",
    "                    stratify=labels,\n",
    "                    random_state=42\n",
    "                )\n",
    "            except ValueError as e:\n",
    "                print(f\"Skipped Sub-Chunk {sub_i} (split error: {e})\")\n",
    "                continue\n",
    "\n",
    "            train_dataset = NewsDataset({k: v[train_idx] for k, v in encodings.items()}, labels[train_idx])\n",
    "            test_dataset = NewsDataset({k: v[test_idx] for k, v in encodings.items()}, labels[test_idx])\n",
    "\n",
    "            model = DistilBertForSequenceClassification.from_pretrained('distilbert-base-uncased', num_labels=2)\n",
    "            model.to(device)\n",
    "\n",
    "            training_args = TrainingArguments(\n",
    "                output_dir=f'./results_sc{super_chunk_num}_sub{sub_i}',\n",
    "                num_train_epochs=1,\n",
    "                per_device_train_batch_size=16,\n",
    "                per_device_eval_batch_size=16,\n",
    "                warmup_steps=50,\n",
    "                weight_decay=0.01,\n",
    "                logging_dir=f'./logs_sc{super_chunk_num}_sub{sub_i}',\n",
    "                logging_steps=1000,\n",
    "                disable_tqdm=True,\n",
    "                fp16=torch.cuda.is_available()\n",
    "            )\n",
    "\n",
    "            trainer = Trainer(\n",
    "                model=model,\n",
    "                args=training_args,\n",
    "                train_dataset=train_dataset,\n",
    "                eval_dataset=test_dataset\n",
    "            )\n",
    "\n",
    "            trainer.train()\n",
    "            predictions = trainer.predict(test_dataset)\n",
    "            pred_labels = np.argmax(predictions.predictions, axis=1)\n",
    "\n",
    "            print(f\"\\nTraining Completed\")\n",
    "            \n",
    "            # Save the model and tokenizer after training\n",
    "            save_model_and_tokenizer(model, tokenizer, super_chunk_num, sub_i)\n",
    "            \n",
    "            # Print classification report ONLY for first sub-chunk\n",
    "            if sub_i == 1:\n",
    "                print(\"\\n Final Classification Report :\")\n",
    "                print(classification_report(labels[test_idx], pred_labels, target_names=['fake', 'political']))\n",
    "\n",
    "            # Ask user if they want to run next sub-chunk\n",
    "            choice = input(f\"Do you want to run the next sub-chunk? (y/n): \").strip().lower()\n",
    "            if choice != 'y':\n",
    "                print(\"Stopping by user request.\")\n",
    "                return\n",
    "\n",
    "        # Ask user if they want to run next super chunk\n",
    "        choice = input(f\"\\nFinished Super Chunk {super_chunk_num}. Run next super chunk? (y/n): \").strip().lower()\n",
    "        if choice != 'y':\n",
    "            print(\"Training stopped by user.\")\n",
    "            break\n",
    "\n",
    "        super_chunk_num += 1\n",
    "\n",
    "# start training\n",
    "file_path = r\"D:\\1_LUT_Masters\\2 Spring 2025\\Intelligent Systems\\Project\\code\\preprocessed_news.csv\"\n",
    "train_on_chunks(file_path)"
   ]
  },
  {
   "cell_type": "markdown",
   "id": "7bac6308",
   "metadata": {},
   "source": [
    "## 🔹 LIAR Dataset: Cross-Domain Evaluation\n",
    "### Step 1: Import Libraries"
   ]
  },
  {
   "cell_type": "code",
   "execution_count": 20,
   "id": "42fbfd6c",
   "metadata": {},
   "outputs": [],
   "source": [
    "from sklearn.metrics import confusion_matrix"
   ]
  },
  {
   "cell_type": "markdown",
   "id": "c15cf34c",
   "metadata": {},
   "source": [
    "### Step 2: Load & Preprocess LIAR Dataset"
   ]
  },
  {
   "cell_type": "code",
   "execution_count": 21,
   "id": "9131d15d",
   "metadata": {},
   "outputs": [],
   "source": [
    "# Step 1: Load LIAR Dataset (test.tsv)\n",
    "column_names = [\n",
    "    \"id\", \"label\", \"statement\", \"subject\", \"speaker\", \"job_title\", \"state\",\n",
    "    \"party\", \"barely_true\", \"false\", \"half_true\", \"mostly_true\", \"pants_on_fire\", \"context\"\n",
    "]\n",
    "liar_test = pd.read_csv(\n",
    "    \"D:/1_LUT_Masters/2 Spring 2025/Intelligent Systems/Project/dataset/liar_dataset/test.tsv\",\n",
    "    sep=\"\\t\", names=column_names, header=None)"
   ]
  },
  {
   "cell_type": "code",
   "execution_count": 22,
   "id": "26e66d1c",
   "metadata": {},
   "outputs": [
    {
     "name": "stdout",
     "output_type": "stream",
     "text": [
      "🔎 LIAR Dataset Preview:\n",
      "           id       label                                          statement  \\\n",
      "0  11972.json        true  Building a wall on the U.S.-Mexico border will...   \n",
      "1  11685.json       false  Wisconsin is on pace to double the number of l...   \n",
      "2  11096.json       false  Says John McCain has done nothing to help the ...   \n",
      "3   5209.json   half-true  Suzanne Bonamici supports a plan that will cut...   \n",
      "4   9524.json  pants-fire  When asked by a reporter whether hes at the ce...   \n",
      "\n",
      "                                             subject  \\\n",
      "0                                        immigration   \n",
      "1                                               jobs   \n",
      "2                    military,veterans,voting-record   \n",
      "3  medicare,message-machine-2012,campaign-adverti...   \n",
      "4  campaign-finance,legal-issues,campaign-adverti...   \n",
      "\n",
      "                            speaker             job_title      state  \\\n",
      "0                        rick-perry              Governor      Texas   \n",
      "1                 katrina-shankland  State representative  Wisconsin   \n",
      "2                      donald-trump       President-Elect   New York   \n",
      "3                     rob-cornilles            consultant     Oregon   \n",
      "4  state-democratic-party-wisconsin                   NaN  Wisconsin   \n",
      "\n",
      "        party  barely_true  false  half_true  mostly_true  pants_on_fire  \\\n",
      "0  republican           30     30         42           23             18   \n",
      "1    democrat            2      1          0            0              0   \n",
      "2  republican           63    114         51           37             61   \n",
      "3  republican            1      1          3            1              1   \n",
      "4    democrat            5      7          2            2              7   \n",
      "\n",
      "                        context  \n",
      "0               Radio interview  \n",
      "1             a news conference  \n",
      "2  comments on ABC's This Week.  \n",
      "3                  a radio show  \n",
      "4                   a web video  \n"
     ]
    }
   ],
   "source": [
    "print(\"LIAR Dataset Preview:\")\n",
    "print(liar_test.head())"
   ]
  },
  {
   "cell_type": "code",
   "execution_count": 23,
   "id": "16361188",
   "metadata": {},
   "outputs": [
    {
     "name": "stdout",
     "output_type": "stream",
     "text": [
      "LIAR Dataset Columns:\n",
      "['id', 'label', 'statement', 'subject', 'speaker', 'job_title', 'state', 'party', 'barely_true', 'false', 'half_true', 'mostly_true', 'pants_on_fire', 'context']\n"
     ]
    }
   ],
   "source": [
    "# Print column names\n",
    "print(\"LIAR Dataset Columns:\")\n",
    "print(liar_test.columns.tolist())"
   ]
  },
  {
   "cell_type": "code",
   "execution_count": 25,
   "id": "3ecb92f8",
   "metadata": {},
   "outputs": [
    {
     "name": "stdout",
     "output_type": "stream",
     "text": [
      "['id', 'label', 'statement', 'subject', 'speaker', 'job_title', 'state', 'party', 'barely_true', 'false', 'half_true', 'mostly_true', 'pants_on_fire', 'context']\n",
      "\n",
      "✅ Cleaned and Binary Mapped LIAR Test Data:\n",
      "        label      type  binary_label\n",
      "0        true  reliable             1\n",
      "1       false      fake             0\n",
      "2       false      fake             0\n",
      "3   half-true      fake             0\n",
      "4  pants-fire      fake             0\n"
     ]
    }
   ],
   "source": [
    "print(liar_test.columns.tolist())#  Step 3: Clean and Map Labels to Binary (Fake vs Reliable)\n",
    "label_mapping = {\n",
    "    \"true\": \"reliable\",\n",
    "    \"mostly-true\": \"reliable\",\n",
    "    \"half-true\": \"fake\",\n",
    "    \"barely-true\": \"fake\",\n",
    "    \"false\": \"fake\",\n",
    "    \"pants-fire\": \"fake\"\n",
    "}\n",
    "\n",
    "liar_test[\"type\"] = liar_test[\"label\"].map(label_mapping)\n",
    "liar_test[\"content\"] = liar_test[\"statement\"]\n",
    "liar_test = liar_test.dropna(subset=[\"content\", \"type\"])\n",
    "liar_test[\"binary_label\"] = liar_test[\"type\"].map({\"fake\": 0, \"reliable\": 1})\n",
    "\n",
    "print(\"\\n Cleaned and Binary Mapped LIAR Test Data:\")\n",
    "print(liar_test[[\"label\", \"type\", \"binary_label\"]].head())"
   ]
  },
  {
   "cell_type": "code",
   "execution_count": 26,
   "id": "8ce62996",
   "metadata": {},
   "outputs": [],
   "source": [
    "cols = [\"id\", \"label\", \"statement\", \"subject\", \"speaker\", \"job_title\", \"state\",\n",
    "        \"party\", \"barely_true\", \"false\", \"half_true\", \"mostly_true\", \"pants_on_fire\", \"context\"]\n",
    "liar_test = pd.read_csv(r\"D:\\1_LUT_Masters\\2 Spring 2025\\Intelligent Systems\\Project\\dataset\\liar_dataset\\test.tsv\", sep=\"\\t\", names=cols, header=None)\n",
    "liar_test['text'] = liar_test['statement']\n",
    "liar_test['label'] = liar_test['label'].map({\n",
    "    'true': 1, 'mostly-true': 1,\n",
    "    'half-true': 0, 'barely-true': 0, 'false': 0, 'pants-fire': 0\n",
    "})\n",
    "liar_test.dropna(subset=[\"text\", \"label\"], inplace=True)\n"
   ]
  },
  {
   "cell_type": "markdown",
   "id": "3e4c1032",
   "metadata": {},
   "source": [
    "### Step 3: Evaluate Saved Simple and Advanced Model on LIAR Dataset"
   ]
  },
  {
   "cell_type": "code",
   "execution_count": 27,
   "id": "5c21372f",
   "metadata": {},
   "outputs": [],
   "source": [
    "# Load model\n",
    "simple_model = joblib.load(\"simple_model.joblib\")"
   ]
  },
  {
   "cell_type": "code",
   "execution_count": 31,
   "id": "b3ab5537",
   "metadata": {},
   "outputs": [
    {
     "name": "stdout",
     "output_type": "stream",
     "text": [
      "✅ Final label distribution:\n",
      "binary_label\n",
      "0    818\n",
      "1    449\n",
      "Name: count, dtype: int64\n",
      "\n",
      "📊 Simple Model Evaluation on LIAR Dataset\n",
      "              precision    recall  f1-score   support\n",
      "\n",
      "        fake       0.65      1.00      0.78       818\n",
      "    reliable       0.62      0.01      0.02       449\n",
      "\n",
      "    accuracy                           0.65      1267\n",
      "   macro avg       0.64      0.50      0.40      1267\n",
      "weighted avg       0.64      0.65      0.51      1267\n",
      "\n",
      "Confusion Matrix:\n",
      " [[815   3]\n",
      " [444   5]]\n",
      "\n",
      "📊 Advanced Model Evaluation on LIAR Dataset (DistilBERT)\n",
      "              precision    recall  f1-score   support\n",
      "\n",
      "        fake       1.00      0.00      0.00       818\n",
      "    reliable       0.35      1.00      0.52       449\n",
      "\n",
      "    accuracy                           0.36      1267\n",
      "   macro avg       0.68      0.50      0.26      1267\n",
      "weighted avg       0.77      0.36      0.19      1267\n",
      "\n",
      "Confusion Matrix:\n",
      " [[  1 817]\n",
      " [  0 449]]\n",
      "\n",
      "✅ Comparison Table\n",
      "                   Model  Accuracy  Precision    Recall  F1 Score\n",
      "0   Simple (Naive Bayes)  0.647198    0.62500  0.011136  0.021882\n",
      "1  Advanced (DistilBERT)  0.355170    0.35466  1.000000  0.523615\n"
     ]
    }
   ],
   "source": [
    "\n",
    "\n",
    "# Step 1: Load LIAR Dataset (test.tsv)\n",
    "column_names = [\n",
    "    \"id\", \"label\", \"statement\", \"subject\", \"speaker\", \"job_title\", \"state\",\n",
    "    \"party\", \"barely_true\", \"false\", \"half_true\", \"mostly_true\", \"pants_on_fire\", \"context\"\n",
    "]\n",
    "liar_test = pd.read_csv(\n",
    "    \"D:/1_LUT_Masters/2 Spring 2025/Intelligent Systems/Project/dataset/liar_dataset/test.tsv\",\n",
    "    sep=\"\\t\", names=column_names, header=None)\n",
    "\n",
    "# Step 2: Label Mapping\n",
    "label_map_text = {\n",
    "    \"true\": \"reliable\",\n",
    "    \"mostly-true\": \"reliable\",\n",
    "    \"half-true\": \"fake\",\n",
    "    \"barely-true\": \"fake\",\n",
    "    \"false\": \"fake\",\n",
    "    \"pants-fire\": \"fake\"\n",
    "}\n",
    "\n",
    "# Create required columns\n",
    "liar_test[\"content\"] = liar_test[\"statement\"]\n",
    "liar_test[\"type\"] = liar_test[\"label\"].map(label_map_text)\n",
    "liar_test.dropna(subset=[\"content\", \"type\"], inplace=True)\n",
    "\n",
    "# Convert to binary\n",
    "liar_test[\"binary_label\"] = liar_test[\"type\"].map({\"fake\": 0, \"reliable\": 1})\n",
    "liar_test.dropna(subset=[\"binary_label\"], inplace=True)\n",
    "\n",
    "print(\"Final label distribution:\")\n",
    "print(liar_test[\"binary_label\"].value_counts())\n",
    "\n",
    "#  Step 3: Load Simple and Advanced Models\n",
    "simple_model = joblib.load(\"simple_model.joblib\")\n",
    "\n",
    "tokenizer = DistilBertTokenizerFast.from_pretrained(\"saved_advanced_model_sc1_sub1\")\n",
    "advanced_model = DistilBertForSequenceClassification.from_pretrained(\"saved_advanced_model_sc1_sub1\")\n",
    "advanced_model.eval()\n",
    "device = torch.device(\"cuda\" if torch.cuda.is_available() else \"cpu\")\n",
    "advanced_model.to(device)\n",
    "\n",
    "#  Step 4: Evaluation Functions\n",
    "def evaluate_simple(model, df):\n",
    "    preds = model.predict(df[\"content\"])\n",
    "\n",
    "    y_true = df[\"binary_label\"].astype(int)\n",
    "    y_pred = pd.Series(preds).map({\"fake\": 0, \"reliable\": 1}).astype(int)\n",
    "\n",
    "    acc = accuracy_score(y_true, y_pred)\n",
    "    precision, recall, f1, _ = precision_recall_fscore_support(y_true, y_pred, average=\"binary\", pos_label=1)\n",
    "    cm = confusion_matrix(y_true, y_pred)\n",
    "    report = classification_report(y_true, y_pred, labels=[0, 1], target_names=[\"fake\", \"reliable\"])\n",
    "\n",
    "    return acc, precision, recall, f1, cm, report\n",
    "\n",
    "def evaluate_advanced(model, tokenizer, df):\n",
    "    texts = df[\"content\"].astype(str).tolist()\n",
    "    labels = df[\"binary_label\"].astype(int).tolist()\n",
    "\n",
    "    inputs = tokenizer(texts, return_tensors=\"pt\", padding=True, truncation=True, max_length=64)\n",
    "    inputs = {k: v.to(device) for k, v in inputs.items()}\n",
    "\n",
    "    with torch.no_grad():\n",
    "        outputs = model(**inputs)\n",
    "        preds = torch.argmax(outputs.logits, dim=1).cpu().numpy()\n",
    "\n",
    "    acc = accuracy_score(labels, preds)\n",
    "    precision, recall, f1, _ = precision_recall_fscore_support(labels, preds, average=\"binary\", pos_label=1)\n",
    "    cm = confusion_matrix(labels, preds)\n",
    "    report = classification_report(labels, preds, labels=[0, 1], target_names=[\"fake\", \"reliable\"])\n",
    "\n",
    "    return acc, precision, recall, f1, cm, report\n",
    "\n",
    "#  Step 5: Run Evaluations\n",
    "print(\"\\nSimple Model Evaluation on LIAR Dataset\")\n",
    "s_acc, s_prec, s_rec, s_f1, s_cm, s_report = evaluate_simple(simple_model, liar_test)\n",
    "print(s_report)\n",
    "print(\"Confusion Matrix:\\n\", s_cm)\n",
    "\n",
    "print(\"\\nAdvanced Model Evaluation on LIAR Dataset (DistilBERT)\")\n",
    "a_acc, a_prec, a_rec, a_f1, a_cm, a_report = evaluate_advanced(advanced_model, tokenizer, liar_test)\n",
    "print(a_report)\n",
    "print(\"Confusion Matrix:\\n\", a_cm)\n",
    "\n",
    "# Step 6: Comparison Table\n",
    "summary = pd.DataFrame({\n",
    "    \"Model\": [\"Simple (Naive Bayes)\", \"Advanced (DistilBERT)\"],\n",
    "    \"Accuracy\": [s_acc, a_acc],\n",
    "    \"Precision\": [s_prec, a_prec],\n",
    "    \"Recall\": [s_rec, a_rec],\n",
    "    \"F1 Score\": [s_f1, a_f1]\n",
    "})\n",
    "print(\"\\n Comparison Table\")\n",
    "print(summary)\n",
    "\n",
    "# 📦 Optional: Save results\n",
    "summary.to_csv(\"liar_model_results.csv\", index=False)\n"
   ]
  },
  {
   "cell_type": "code",
   "execution_count": 7,
   "id": "4c665448",
   "metadata": {},
   "outputs": [
    {
     "data": {
      "image/png": "[encoded data removed]",
      "text/plain": [
       "<Figure size 1200x500 with 4 Axes>"
      ]
     },
     "metadata": {},
     "output_type": "display_data"
    }
   ],
   "source": [
    "import matplotlib.pyplot as plt\n",
    "import seaborn as sns\n",
    "from sklearn.metrics import confusion_matrix\n",
    "\n",
    "# Confusion matrices\n",
    "simple_cm = [[815, 3],\n",
    "             [444, 5]]\n",
    "\n",
    "advanced_cm = [[1, 817],\n",
    "               [0, 449]]\n",
    "\n",
    "fig, axes = plt.subplots(1, 2, figsize=(12, 5))\n",
    "\n",
    "# Plot simple model confusion matrix\n",
    "sns.heatmap(simple_cm, annot=True, fmt='d', cmap='Blues', ax=axes[0])\n",
    "axes[0].set_title('Simple Model (Naive Bayes)')\n",
    "axes[0].set_xlabel('Predicted')\n",
    "axes[0].set_ylabel('Actual')\n",
    "axes[0].set_xticklabels(['Fake', 'Reliable'])\n",
    "axes[0].set_yticklabels(['Fake', 'Reliable'])\n",
    "\n",
    "# Plot advanced model confusion matrix\n",
    "sns.heatmap(advanced_cm, annot=True, fmt='d', cmap='Greens', ax=axes[1])\n",
    "axes[1].set_title('Advanced Model (DistilBERT)')\n",
    "axes[1].set_xlabel('Predicted')\n",
    "axes[1].set_ylabel('Actual')\n",
    "axes[1].set_xticklabels(['Fake', 'Reliable'])\n",
    "axes[1].set_yticklabels(['Fake', 'Reliable'])\n",
    "\n",
    "plt.tight_layout()\n",
    "plt.show()\n"
   ]
  },
  {
   "cell_type": "markdown",
   "id": "36825b72",
   "metadata": {},
   "source": [
    "### Step 4: Training with Hugging Face Trainer on LIAR Dataset"
   ]
  },
  {
   "cell_type": "code",
   "execution_count": null,
   "id": "e1a92dfc",
   "metadata": {},
   "outputs": [
    {
     "name": "stdout",
     "output_type": "stream",
     "text": [
      "{'train_runtime': 96.1164, 'train_samples_per_second': 31.618, 'train_steps_per_second': 1.998, 'train_loss': 0.5525629123051962, 'epoch': 3.0}\n",
      "✅ Model and tokenizer saved!\n"
     ]
    }
   ],
   "source": [
    "#  Step 2: Clean and label map\n",
    "label_map = {\n",
    "    \"true\": 1,\n",
    "    \"mostly-true\": 1,\n",
    "    \"half-true\": 0,\n",
    "    \"barely-true\": 0,\n",
    "    \"false\": 0,\n",
    "    \"pants-fire\": 0\n",
    "}\n",
    "liar_test[\"label\"] = liar_test[\"label\"].map(label_map)\n",
    "liar_test.dropna(subset=[\"statement\", \"label\"], inplace=True)\n",
    "\n",
    "#  Step 3: Split into train/val\n",
    "from sklearn.model_selection import train_test_split\n",
    "train_df, val_df = train_test_split(liar_test, test_size=0.2, stratify=liar_test[\"label\"], random_state=42)\n",
    "\n",
    "#  Step 4: Dataset class\n",
    "class LiarDataset(Dataset):\n",
    "    def __init__(self, texts, labels, tokenizer, max_length=64):\n",
    "        self.encodings = tokenizer(texts, truncation=True, padding=True, max_length=max_length)\n",
    "        self.labels = labels\n",
    "\n",
    "    def __getitem__(self, idx):\n",
    "        return {\n",
    "            'input_ids': torch.tensor(self.encodings['input_ids'][idx]),\n",
    "            'attention_mask': torch.tensor(self.encodings['attention_mask'][idx]),\n",
    "            'labels': torch.tensor(self.labels[idx])\n",
    "        }\n",
    "\n",
    "    def __len__(self):\n",
    "        return len(self.label)\n",
    "\n",
    "#  Step 5: Tokenizer + Datasets\n",
    "tokenizer = DistilBertTokenizerFast.from_pretrained(\"distilbert-base-uncased\")\n",
    "train_dataset = LiarDataset(train_df[\"statement\"].tolist(), train_df[\"label\"].tolist(), tokenizer)\n",
    "val_dataset = LiarDataset(val_df[\"statement\"].tolist(), val_df[\"label\"].tolist(), tokenizer)\n",
    "\n",
    "#  Step 6: Load and Train DistilBERT\n",
    "model = DistilBertForSequenceClassification.from_pretrained(\"distilbert-base-uncased\", num_labels=2)\n",
    "\n",
    "training_args = TrainingArguments(\n",
    "    output_dir=\"./liar_test_finetuned\",\n",
    "    num_train_epochs=3,\n",
    "    per_device_train_batch_size=16,\n",
    "    per_device_eval_batch_size=16,\n",
    "    logging_dir=\"./logs_liar_test\"\n",
    ")\n",
    "\n",
    "trainer = Trainer(\n",
    "    model=model,\n",
    "    args=training_args,\n",
    "    train_dataset=train_dataset,\n",
    "    eval_dataset=val_dataset\n",
    ")\n",
    "\n",
    "trainer.train()\n",
    "\n",
    "#  Step 7: Save the fine-tuned model\n",
    "model.save_pretrained(\"liar_test_finetuned_model\")\n",
    "tokenizer.save_pretrained(\"liar_test_finetuned_model\")\n",
    "print(\" Model and tokenizer saved!\")\n"
   ]
  },
  {
   "cell_type": "markdown",
   "id": "0249770f",
   "metadata": {},
   "source": [
    "### Step 5: For Liar dataset Load Fine-Tuned Model and Evaluate"
   ]
  },
  {
   "cell_type": "code",
   "execution_count": 41,
   "id": "242cdeab",
   "metadata": {},
   "outputs": [
    {
     "name": "stdout",
     "output_type": "stream",
     "text": [
      "\n",
      "📊 Final Evaluation Report on test.tsv\n",
      "              precision    recall  f1-score   support\n",
      "\n",
      "        fake       0.87      0.87      0.87       818\n",
      "    reliable       0.77      0.76      0.76       449\n",
      "\n",
      "    accuracy                           0.83      1267\n",
      "   macro avg       0.82      0.81      0.82      1267\n",
      "weighted avg       0.83      0.83      0.83      1267\n",
      "\n"
     ]
    }
   ],
   "source": [
    "# === Step 1: Reload the fine-tuned model ===\n",
    "model_path = \"liar_test_finetuned_model\"\n",
    "model = DistilBertForSequenceClassification.from_pretrained(model_path)\n",
    "tokenizer = DistilBertTokenizerFast.from_pretrained(model_path)\n",
    "model.eval()\n",
    "device = torch.device(\"cuda\" if torch.cuda.is_available() else \"cpu\")\n",
    "model.to(device)\n",
    "\n",
    "\n",
    "# === Step 3: Preprocessing ===\n",
    "texts = df[\"statement\"].astype(str).tolist()\n",
    "labels = df[\"label\"].astype(int).tolist()\n",
    "\n",
    "# === Step 4: Tokenize ===\n",
    "inputs = tokenizer(texts, return_tensors=\"pt\", padding=True, truncation=True, max_length=64)\n",
    "inputs = {k: v.to(device) for k, v in inputs.items()}\n",
    "\n",
    "# === Step 5: Prediction ===\n",
    "with torch.no_grad():\n",
    "    outputs = model(**inputs)\n",
    "    preds = torch.argmax(outputs.logits, dim=1).cpu().numpy()\n",
    "\n",
    "# === Step 6: Evaluation ===\n",
    "acc = accuracy_score(labels, preds)\n",
    "precision, recall, f1, _ = precision_recall_fscore_support(labels, preds, average='binary', pos_label=1)\n",
    "cm = confusion_matrix(labels, preds)\n",
    "report = classification_report(labels, preds, target_names=[\"fake\", \"reliable\"])\n",
    "\n",
    "print(\"\\n Final Evaluation Report on test.tsv\")\n",
    "print(report)\n",
    "\n"
   ]
  },
  {
   "cell_type": "code",
   "execution_count": 11,
   "id": "c0fb270b",
   "metadata": {},
   "outputs": [
    {
     "data": {
      "image/png": "[encoded data removed]",
      "text/plain": [
       "<Figure size 1000x600 with 1 Axes>"
      ]
     },
     "metadata": {},
     "output_type": "display_data"
    }
   ],
   "source": [
    "import matplotlib.pyplot as plt\n",
    "import numpy as np\n",
    "\n",
    "# === Updated Classification Metrics ===\n",
    "scores = {\n",
    "    \"FakeCorpus Simple\": {\"precision\": 0.90, \"recall\": 0.89, \"f1\": 0.88},   # weighted avg\n",
    "    \"FakeCorpus Advanced\": {\"precision\": 0.97, \"recall\": 0.97, \"f1\": 0.97}, # weighted avg\n",
    "    \"LIAR Simple\": {\"precision\": 0.64, \"recall\": 0.65, \"f1\": 0.51},         # weighted avg\n",
    "    \"LIAR Advanced\": {\"precision\": 0.77, \"recall\": 0.36, \"f1\": 0.19}        # weighted avg\n",
    "}\n",
    "\n",
    "# === Plot Settings ===\n",
    "labels = list(scores.keys())\n",
    "precision_scores = [scores[m][\"precision\"] for m in labels]\n",
    "recall_scores = [scores[m][\"recall\"] for m in labels]\n",
    "f1_scores = [scores[m][\"f1\"] for m in labels]\n",
    "\n",
    "x = np.arange(len(labels))\n",
    "width = 0.25\n",
    "\n",
    "# === Create Grouped Bar Chart ===\n",
    "fig, ax = plt.subplots(figsize=(10, 6))\n",
    "ax.bar(x - width, precision_scores, width, label='Precision')\n",
    "ax.bar(x, recall_scores, width, label='Recall')\n",
    "ax.bar(x + width, f1_scores, width, label='F1 Score')\n",
    "\n",
    "# === Labels and Legends ===\n",
    "ax.set_ylabel('Scores')\n",
    "ax.set_title('Model Performance Comparison (FakeNewsCorpus vs LIAR)')\n",
    "ax.set_xticks(x)\n",
    "ax.set_xticklabels(labels, rotation=15)\n",
    "ax.set_ylim([0.0, 1.05])  # Increased from 1.0 to 1.05\n",
    "ax.legend()\n",
    "ax.grid(True, linestyle='--', alpha=0.5)\n",
    "\n",
    "# === Annotate Bars ===\n",
    "for i in range(len(labels)):\n",
    "    ax.text(x[i] - width, precision_scores[i] + 0.015, f\"{precision_scores[i]:.2f}\", ha='center')\n",
    "    ax.text(x[i], recall_scores[i] + 0.015, f\"{recall_scores[i]:.2f}\", ha='center')\n",
    "    ax.text(x[i] + width, f1_scores[i] + 0.015, f\"{f1_scores[i]:.2f}\", ha='center')\n",
    "\n",
    "plt.tight_layout()\n",
    "plt.show()\n"
   ]
  }
 ],
 "metadata": {
  "kernelspec": {
   "display_name": ".venv",
   "language": "python",
   "name": "python3"
  },
  "language_info": {
   "codemirror_mode": {
    "name": "ipython",
    "version": 3
   },
   "file_extension": ".py",
   "mimetype": "text/x-python",
   "name": "python",
   "nbconvert_exporter": "python",
   "pygments_lexer": "ipython3",
   "version": "3.9.13"
  }
 },
 "nbformat": 4,
 "nbformat_minor": 5
}
