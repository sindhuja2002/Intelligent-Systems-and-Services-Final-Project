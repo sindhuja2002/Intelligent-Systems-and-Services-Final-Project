{
 "cells": [
  {
   "cell_type": "markdown",
   "id": "7edae277",
   "metadata": {},
   "source": [
    "# Fake News Detection - Complete Project\n",
    "\n",
    "This notebook includes:\n",
    "- Data Preprocessing\n",
    "- Simple Model (Naive Bayes with TF-IDF)\n",
    "- Advanced Model (DistilBERT)\n",
    "- Evaluation on FakeNewsCorpus and LIAR Dataset\n",
    "- Saving & Loading Models"
   ]
  },
  {
   "cell_type": "markdown",
   "id": "b0e842ae",
   "metadata": {},
   "source": [
    "# Data Exploration and Preprocessing"
   ]
  },
  {
   "cell_type": "code",
   "execution_count": 2,
   "id": "8535bfc6",
   "metadata": {},
   "outputs": [
    {
     "name": "stderr",
     "output_type": "stream",
     "text": [
      "[nltk_data] Downloading package punkt to\n",
      "[nltk_data]     C:\\Users\\HP\\AppData\\Roaming\\nltk_data...\n",
      "[nltk_data]   Package punkt is already up-to-date!\n",
      "[nltk_data] Downloading package stopwords to\n",
      "[nltk_data]     C:\\Users\\HP\\AppData\\Roaming\\nltk_data...\n",
      "[nltk_data]   Package stopwords is already up-to-date!\n"
     ]
    },
    {
     "data": {
      "text/plain": [
       "True"
      ]
     },
     "execution_count": 2,
     "metadata": {},
     "output_type": "execute_result"
    }
   ],
   "source": [
    "import nltk\n",
    "import pandas as pd\n",
    "import re\n",
    "from nltk.tokenize import word_tokenize\n",
    "from nltk.corpus import stopwords\n",
    "from nltk.stem import PorterStemmer\n",
    "from collections import Counter\n",
    "\n",
    "# Download necessary NLTK datasets\n",
    "nltk.download('punkt')\n",
    "nltk.download('stopwords')\n"
   ]
  },
  {
   "cell_type": "code",
   "execution_count": null,
   "id": "116aa8da",
   "metadata": {},
   "outputs": [
    {
     "name": "stdout",
     "output_type": "stream",
     "text": [
      " Final Sampled Dataset Size: 852909 rows\n"
     ]
    }
   ],
   "source": [
    "import sys\n",
    "import pandas as pd\n",
    "import csv\n",
    "csv.field_size_limit(sys.maxsize)\n",
    "\n",
    "\n",
    "CHUNK_SIZE = 100000  \n",
    "SAMPLE_RATIO = 0.10 \n",
    "\n",
    "sampled_chunks = []\n",
    "\n",
    "for chunk in pd.read_csv(\"news.csv\", usecols=[\"content\"], dtype=str, encoding=\"utf-8\",\n",
    "                         on_bad_lines=\"skip\", low_memory=True, chunksize=CHUNK_SIZE, engine=\"python\"):\n",
    "    chunk_sample = chunk.sample(frac=SAMPLE_RATIO, random_state=42)  \n",
    "    sampled_chunks.append(chunk_sample)\n",
    "\n",
    "# Combine all sampled chunks\n",
    "df_sampled = pd.concat(sampled_chunks, ignore_index=True)\n",
    "\n",
    "print(f\" Final Sampled Dataset Size: {len(df_sampled)} rows\")  "
   ]
  },
  {
   "cell_type": "code",
   "execution_count": null,
   "id": "36405e66",
   "metadata": {},
   "outputs": [
    {
     "name": "stderr",
     "output_type": "stream",
     "text": [
      "[nltk_data] Downloading package punkt to\n",
      "[nltk_data]     C:\\Users\\HP\\AppData\\Roaming\\nltk_data...\n",
      "[nltk_data]   Package punkt is already up-to-date!\n",
      "[nltk_data] Downloading package stopwords to\n",
      "[nltk_data]     C:\\Users\\HP\\AppData\\Roaming\\nltk_data...\n",
      "[nltk_data]   Package stopwords is already up-to-date!\n"
     ]
    },
    {
     "name": "stdout",
     "output_type": "stream",
     "text": [
      " Initial Vocabulary Size: 1116207\n"
     ]
    }
   ],
   "source": [
    "\n",
    "#calculation of vocab size before processing\n",
    "stop_words = set(stopwords.words('english'))\n",
    "stemmer = PorterStemmer()\n",
    "\n",
    "\n",
    "def get_vocabulary_size(text_series, chunk_size=5000):\n",
    "    vocab = Counter()  \n",
    "    for i in range(0, len(text_series), chunk_size):\n",
    "        chunk_tokens = []\n",
    "        \n",
    "        # Tokenize \n",
    "        for text in text_series[i:i + chunk_size]:\n",
    "            if text:  \n",
    "                tokens = word_tokenize(text)  \n",
    "                tokens = [token.lower() for token in tokens if token.isalpha()]  \n",
    "                chunk_tokens.extend(tokens)  \n",
    "        \n",
    "        \n",
    "        vocab.update(chunk_tokens)\n",
    "    \n",
    "    return len(vocab) \n",
    "\n",
    "\n",
    "vocab_size_before = get_vocabulary_size(df_sampled['content'])\n",
    "\n",
    "print(f\" Initial Vocabulary Size: {vocab_size_before}\")\n"
   ]
  },
  {
   "cell_type": "code",
   "execution_count": null,
   "id": "6f625196",
   "metadata": {},
   "outputs": [
    {
     "name": "stdout",
     "output_type": "stream",
     "text": [
      " Vocabulary Size After Preprocessing: 969271\n"
     ]
    }
   ],
   "source": [
    "# Preprocessing or data cleaning\n",
    "df_sampled = df_sampled.dropna(subset=['content'])\n",
    "\n",
    "\n",
    "def preprocess_text(text):\n",
    "    tokens = word_tokenize(text) \n",
    "    tokens = [token.lower() for token in tokens if token.isalpha()]  \n",
    "    tokens = [token for token in tokens if token not in stop_words]  \n",
    "    tokens = [stemmer.stem(token) for token in tokens]  \n",
    "    return tokens\n",
    "\n",
    "\n",
    "def get_vocabulary_size_processed(text_series, chunk_size=5000):\n",
    "    vocab = Counter()\n",
    "    for i in range(0, len(text_series), chunk_size):\n",
    "        chunk_tokens = [preprocess_text(text) for text in text_series[i:i + chunk_size]]\n",
    "        for tokens in chunk_tokens:\n",
    "            vocab.update(tokens)\n",
    "    return len(vocab)\n",
    "\n",
    "\n",
    "vocab_size_after = get_vocabulary_size_processed(df_sampled['content'])\n",
    "\n",
    "print(f\" Vocabulary Size After Preprocessing: {vocab_size_after}\")\n"
   ]
  },
  {
   "cell_type": "code",
   "execution_count": null,
   "id": "45afd1f8",
   "metadata": {},
   "outputs": [
    {
     "name": "stdout",
     "output_type": "stream",
     "text": [
      "count    852895.000000\n",
      "mean          0.213242\n",
      "std           1.360819\n",
      "min           0.000000\n",
      "25%           0.000000\n",
      "50%           0.000000\n",
      "75%           0.000000\n",
      "max         263.000000\n",
      "Name: url_count, dtype: float64\n"
     ]
    }
   ],
   "source": [
    "import re\n",
    "\n",
    "# Function to count URLs\n",
    "def count_urls(text):\n",
    "    return len(re.findall(r'http[s]?://\\S+', text))\n",
    "\n",
    "\n",
    "df_sampled['url_count'] = df_sampled['content'].apply(count_urls)\n",
    "\n",
    "print(df_sampled['url_count'].describe())\n"
   ]
  },
  {
   "cell_type": "code",
   "execution_count": null,
   "id": "9b80c1fc",
   "metadata": {},
   "outputs": [
    {
     "name": "stdout",
     "output_type": "stream",
     "text": [
      "count    852895.000000\n",
      "mean          0.050565\n",
      "std           1.190655\n",
      "min           0.000000\n",
      "25%           0.000000\n",
      "50%           0.000000\n",
      "75%           0.000000\n",
      "max         376.000000\n",
      "Name: date_count, dtype: float64\n"
     ]
    }
   ],
   "source": [
    "# Function to count dates\n",
    "def count_dates(text):\n",
    "    return len(re.findall(r'\\b\\d{1,2}[-/]\\d{1,2}[-/]\\d{2,4}\\b', text))\n",
    "\n",
    "\n",
    "df_sampled['date_count'] = df_sampled['content'].apply(count_dates)\n",
    "\n",
    "print(df_sampled['date_count'].describe())\n"
   ]
  },
  {
   "cell_type": "code",
   "execution_count": null,
   "id": "6ebd3469",
   "metadata": {},
   "outputs": [
    {
     "name": "stdout",
     "output_type": "stream",
     "text": [
      "count    852895.000000\n",
      "mean          9.771909\n",
      "std          31.807210\n",
      "min           0.000000\n",
      "25%           1.000000\n",
      "50%           3.000000\n",
      "75%          10.000000\n",
      "max        3361.000000\n",
      "Name: num_count, dtype: float64\n"
     ]
    }
   ],
   "source": [
    "# Function to count numeric values\n",
    "def count_numbers(text):\n",
    "    return len(re.findall(r'\\b\\d+\\b', text))\n",
    "\n",
    "df_sampled['num_count'] = df_sampled['content'].apply(count_numbers)\n",
    "\n",
    "\n",
    "print(df_sampled['num_count'].describe())\n"
   ]
  },
  {
   "cell_type": "code",
   "execution_count": 8,
   "id": "899e806a",
   "metadata": {},
   "outputs": [
    {
     "name": "stdout",
     "output_type": "stream",
     "text": [
      "Total URLs: 181873\n",
      "Total Dates: 43127\n",
      "Total Numbers: 8334412\n"
     ]
    }
   ],
   "source": [
    "total_urls = df_sampled[\"url_count\"].sum()\n",
    "total_dates = df_sampled[\"date_count\"].sum()\n",
    "total_numbers = df_sampled[\"num_count\"].sum()\n",
    "\n",
    "print(f\"Total URLs: {total_urls}\")\n",
    "print(f\"Total Dates: {total_dates}\")\n",
    "print(f\"Total Numbers: {total_numbers}\")\n",
    "\n"
   ]
  },
  {
   "cell_type": "code",
   "execution_count": null,
   "id": "069fdce6",
   "metadata": {},
   "outputs": [
    {
     "name": "stdout",
     "output_type": "stream",
     "text": [
      "[('the', 22390490), (',', 20790074), ('.', 16200060), ('to', 10796151), ('of', 10672297), ('and', 9807935), ('a', 8440061), ('in', 7408707), ('that', 4844790), ('is', 4359395), ('’', 3943676), ('for', 3751516), ('it', 3086467), ('on', 2992349), ('“', 2489700), ('”', 2438757), ('with', 2423910), ('s', 2409243), ('as', 2396337), (':', 2252276), ('was', 2110288), ('are', 2102207), ('i', 2065048), ('by', 1996057), ('this', 1950347), ('you', 1916419), ('at', 1879479), ('not', 1873171), ('be', 1854972), ('he', 1853708), ('have', 1808569), (')', 1783509), ('(', 1755087), ('from', 1746446), (\"''\", 1500276), ('they', 1483941), ('an', 1477583), ('has', 1471067), ('we', 1443458), (\"'s\", 1439755), ('but', 1407498), ('his', 1392768), ('or', 1290622), ('said', 1218521), ('``', 1186647), ('who', 1155390), ('will', 1135401), ('their', 1086035), ('all', 991414), ('more', 989730), ('about', 947431), ('?', 920360), ('one', 917715), ('new', 908391), ('can', 894249), ('which', 874364), ('if', 849899), ('would', 836586), ('what', 810457), ('been', 791374), ('were', 787435), ('there', 785945), ('had', 785791), ('up', 763609), ('people', 746107), ('when', 734581), ('$', 732911), ('so', 714957), ('our', 707704), ('out', 700477), ('do', 681973), ('no', 662607), ('its', 649155), ('t', 640971), ('your', 599761), ('also', 592205), ('like', 589429), ('her', 585525), ('than', 579920), ('she', 579268), ('other', 559143), ('us', 557395), ('after', 556157), ('—', 551330), ('some', 548396), ('just', 533216), ('time', 514088), (';', 513049), ('now', 511173), ('into', 509987), ('my', 509071), ('them', 506164), ('over', 505406), ('only', 488941), ('mr.', 461235), ('even', 458540), ('how', 437871), ('!', 432581), ('could', 430448), ('because', 427736)]\n"
     ]
    }
   ],
   "source": [
    "from nltk.probability import FreqDist\n",
    "from nltk.tokenize import word_tokenize\n",
    "\n",
    "\n",
    "freq_dist_before = FreqDist()\n",
    "\n",
    "chunk_size = 10000  \n",
    "\n",
    "for i in range(0, len(df_sampled), chunk_size):\n",
    "    chunk = df_sampled[\"content\"][i : i + chunk_size].dropna()  \n",
    "    chunk_tokens = [word_tokenize(text.lower()) for text in chunk] \n",
    "    chunk_tokens = [item for sublist in chunk_tokens for item in sublist]\n",
    "    freq_dist_before.update(chunk_tokens)  \n",
    "\n",
    "#  100 most frequent words\n",
    "most_frequent_words = freq_dist_before.most_common(100)\n",
    "\n",
    "print(most_frequent_words)\n"
   ]
  },
  {
   "cell_type": "code",
   "execution_count": null,
   "id": "f8e3f990",
   "metadata": {},
   "outputs": [
    {
     "name": "stdout",
     "output_type": "stream",
     "text": [
      "[('said', 1218535), ('one', 957890), ('new', 908562), ('would', 836596), ('time', 827155), ('state', 801855), ('year', 783373), ('peopl', 755543), ('like', 720122), ('use', 604798), ('also', 592218), ('us', 557397), ('make', 533384), ('say', 512913), ('go', 500536), ('get', 496334), ('even', 488537), ('presid', 458326), ('govern', 458183), ('american', 445926), ('work', 444421), ('report', 439072), ('right', 435436), ('nation', 430620), ('could', 430451), ('first', 427957), ('two', 423061), ('day', 421740), ('trump', 419425), ('news', 418016), ('mani', 417934), ('come', 416948), ('obama', 410792), ('continu', 391564), ('world', 389418), ('take', 389185), ('stori', 386862), ('may', 383698), ('read', 378005), ('call', 373205), ('last', 373199), ('want', 363934), ('see', 363062), ('includ', 354478), ('know', 352014), ('think', 351412), ('way', 349348), ('countri', 341515), ('back', 339537), ('need', 334487), ('public', 332417), ('support', 326465), ('polit', 319836), ('unit', 310616), ('tri', 307897), ('look', 307813), ('iran', 305078), ('york', 303129), ('hous', 301415), ('show', 300949), ('war', 299828), ('well', 298012), ('much', 292222), ('chang', 290572), ('system', 285095), ('pleas', 276726), ('live', 276267), ('group', 274678), ('thing', 274241), ('help', 273630), ('law', 267043), ('made', 266413), ('good', 259007), ('week', 258687), ('compani', 256821), ('million', 255703), ('issu', 252140), ('democrat', 251570), ('sinc', 250728), ('republican', 248436), ('sign', 248349), ('inform', 246375), ('point', 241989), ('still', 241077), ('part', 240791), ('health', 240659), ('end', 240566), ('power', 240471), ('offic', 240304), ('plan', 236829), ('leader', 233623), ('main', 233113), ('servic', 231444), ('citi', 229592), ('forc', 229342), ('anoth', 227870), ('attack', 227820), ('percent', 227770), ('gener', 227107), ('parti', 224881)]\n"
     ]
    }
   ],
   "source": [
    "from nltk.corpus import stopwords\n",
    "from nltk.tokenize import word_tokenize\n",
    "from nltk.probability import FreqDist\n",
    "from nltk.stem import PorterStemmer\n",
    "import string\n",
    "\n",
    "# Load English stopwords and punctuation\n",
    "stop_words = set(stopwords.words('english'))\n",
    "punctuation = set(string.punctuation)\n",
    "\n",
    "freq_dist = FreqDist()\n",
    "stemmer = PorterStemmer()\n",
    "\n",
    "\n",
    "chunk_size = 10000  \n",
    "\n",
    "\n",
    "for i in range(0, len(df_sampled), chunk_size):\n",
    "    chunk = df_sampled[\"content\"][i : i + chunk_size].dropna()  \n",
    "    chunk_tokens = [word_tokenize(text.lower()) for text in chunk]  \n",
    "    \n",
    "   \n",
    "    chunk_tokens = [item for sublist in chunk_tokens for item in sublist]  \n",
    "    \n",
    "   \n",
    "    filtered_tokens = [\n",
    "        stemmer.stem(word)  \n",
    "        for word in chunk_tokens\n",
    "        if word.isalpha() and word not in stop_words and word not in punctuation\n",
    "    ]\n",
    "    \n",
    "\n",
    "    freq_dist.update(filtered_tokens)  \n",
    "\n",
    "#  100 most frequent words after preprocessing\n",
    "most_frequent_words = freq_dist.most_common(100)\n",
    "\n",
    "#  100 most frequent words\n",
    "print(most_frequent_words)\n"
   ]
  },
  {
   "cell_type": "code",
   "execution_count": null,
   "id": "932749fd",
   "metadata": {},
   "outputs": [
    {
     "data": {
      "image/png": "[encoded data removed]",
      "text/plain": [
       "<Figure size 1200x600 with 1 Axes>"
      ]
     },
     "metadata": {},
     "output_type": "display_data"
    },
    {
     "data": {
      "image/png": "[encoded data removed]",
      "text/plain": [
       "<Figure size 1200x600 with 1 Axes>"
      ]
     },
     "metadata": {},
     "output_type": "display_data"
    }
   ],
   "source": [
    "import matplotlib.pyplot as plt\n",
    "\n",
    "# Function to plot word frequencies\n",
    "def plot_word_frequencies(freq_dist, title):\n",
    "    if not freq_dist or len(freq_dist) == 0:\n",
    "        print(f\"Warning: No words available for {title}\")\n",
    "        return\n",
    "    \n",
    "    \n",
    "    most_common_words = freq_dist.most_common(30)\n",
    "    words, counts = zip(*most_common_words)  \n",
    "    \n",
    "    #  plot\n",
    "    plt.figure(figsize=(12, 6))\n",
    "    plt.bar(words, counts, color='skyblue')\n",
    "    plt.xticks(rotation=45, ha='right')  \n",
    "    plt.xlabel(\"Words\")\n",
    "    plt.ylabel(\"Frequency\")\n",
    "    plt.title(title)\n",
    "    plt.grid(axis='y', linestyle='--', alpha=0.7)  \n",
    "    plt.show()\n",
    "\n",
    "# Plotting the 30 most frequent words before preprocessing\n",
    "plot_word_frequencies(freq_dist_before, \"Top 30 Frequent Words (Before Preprocessing)\")\n",
    "\n",
    "# Plotting the 30 most frequent words after preprocessing\n",
    "plot_word_frequencies(freq_dist, \"Top 30 Frequent Words (After Preprocessing)\")\n"
   ]
  },
  {
   "cell_type": "code",
   "execution_count": 3,
   "id": "5f6f0382",
   "metadata": {},
   "outputs": [
    {
     "name": "stderr",
     "output_type": "stream",
     "text": [
      "[nltk_data] Downloading package stopwords to\n",
      "[nltk_data]     C:\\Users\\HP\\AppData\\Roaming\\nltk_data...\n",
      "[nltk_data]   Package stopwords is already up-to-date!\n"
     ]
    },
    {
     "name": "stdout",
     "output_type": "stream",
     "text": [
      "Preprocessed data saved to 'preprocessed_news.csv'\n"
     ]
    }
   ],
   "source": [
    "from joblib import Parallel, delayed\n",
    "\n",
    "# Download required resources \n",
    "nltk.download('stopwords')\n",
    "\n",
    "# Initialize stemmer and stopwords\n",
    "stemmer = PorterStemmer()\n",
    "stop_words = set(stopwords.words('english'))\n",
    "\n",
    "# Assuming df_sampled is already created with the 'content' and 'type' columns\n",
    "df_sampled.dropna(subset=[\"content\", \"type\"], inplace=True)\n",
    "\n",
    "def preprocess_text(text):\n",
    "    # Lowercase\n",
    "    text = text.lower()\n",
    "    # Remove punctuation and numbers\n",
    "    text = re.sub(r'[^a-z\\s]', '', text)\n",
    "    # Tokenize and remove stopwords\n",
    "    tokens = [word for word in text.split() if word not in stop_words]\n",
    "    # Stem tokens\n",
    "    stemmed = [stemmer.stem(word) for word in tokens]\n",
    "    # Join back to text\n",
    "    return ' '.join(stemmed)\n",
    "\n",
    "# Function to apply preprocessing to a chunk of data\n",
    "def process_chunk(chunk):\n",
    "    chunk['processed_content'] = chunk['content'].apply(preprocess_text)\n",
    "    return chunk[['content', 'type', 'processed_content']]\n",
    "\n",
    "# Split the data into smaller chunks for parallel processing\n",
    "chunk_size = 50000  # Adjust this depending on memory constraints\n",
    "chunks = [df_sampled.iloc[i:i + chunk_size] for i in range(0, len(df_sampled), chunk_size)]\n",
    "\n",
    "# Use parallel processing to preprocess chunks\n",
    "processed_chunks = Parallel(n_jobs=-1)(delayed(process_chunk)(chunk) for chunk in chunks)\n",
    "\n",
    "# Combine all processed chunks\n",
    "df_processed = pd.concat(processed_chunks, ignore_index=True)\n",
    "\n",
    "# Save the processed data to a CSV file\n",
    "df_processed.to_csv(\"preprocessed_news.csv\", index=False, encoding=\"utf-8\")\n",
    "print(\"Preprocessed data saved to 'preprocessed_news.csv'\")\n"
   ]
  },
  {
   "cell_type": "code",
   "execution_count": 4,
   "id": "b7b045de",
   "metadata": {},
   "outputs": [
    {
     "name": "stdout",
     "output_type": "stream",
     "text": [
      "Unique labels in the dataset: ['fake' 'political' 'conspiracy' 'bias' 'satire' 'clickbait' 'junksci'\n",
      " 'unreliable' 'hate' 'unknown' 'rumor' 'reliable']\n"
     ]
    }
   ],
   "source": [
    "from sklearn.model_selection import train_test_split\n",
    "\n",
    "# Split into 80% train, 20% temp\n",
    "train_df, temp_df = train_test_split(df_processed, test_size=0.2, stratify=df_processed[\"type\"], random_state=42,train_size=0.8)\n",
    "# Split temp into 50% validation, 50% test (10% each of total)\n",
    "val_df, test_df = train_test_split(temp_df, test_size=0.5, stratify=temp_df[\"type\"], random_state=42)\n",
    "\n",
    "print(\"Unique labels in the dataset:\", df_processed['type'].unique())"
   ]
  },
  {
   "cell_type": "code",
   "execution_count": 5,
   "id": "8e940c01",
   "metadata": {},
   "outputs": [
    {
     "name": "stdout",
     "output_type": "stream",
     "text": [
      "Train NaN check:\n",
      "Content: 0\n",
      "Labels: 0\n",
      "\n",
      "Validation NaN check:\n",
      "Content: 0\n",
      "Labels: 0\n",
      "              precision    recall  f1-score   support\n",
      "\n",
      "        fake       0.88      0.99      0.93     62151\n",
      "    reliable       0.96      0.55      0.70     19120\n",
      "\n",
      "    accuracy                           0.89     81271\n",
      "   macro avg       0.92      0.77      0.81     81271\n",
      "weighted avg       0.90      0.89      0.88     81271\n",
      "\n"
     ]
    }
   ],
   "source": [
    "from sklearn.feature_extraction.text import TfidfVectorizer\n",
    "from sklearn.naive_bayes import MultinomialNB\n",
    "from sklearn.pipeline import Pipeline\n",
    "from sklearn.metrics import classification_report\n",
    "\n",
    "# Example mapping (adjusted based on actual labels)\n",
    "label_mapping = {\n",
    "    'fake': 'fake',\n",
    "    'political': 'fake',\n",
    "    'conspiracy': 'fake',\n",
    "    'bias': 'fake',\n",
    "    'satire': 'fake',\n",
    "    'clickbait': 'fake',\n",
    "    'junksci': 'fake',\n",
    "    'unreliable': 'fake',\n",
    "    'hate': 'fake',\n",
    "    'unknown': 'fake',\n",
    "    'rumor': 'fake',\n",
    "    'reliable': 'reliable'\n",
    "}\n",
    "df_processed['binary_label'] = df_processed['type'].map(label_mapping)\n",
    "train_df['binary_label'] = train_df['type'].map(label_mapping)\n",
    "val_df['binary_label'] = val_df['type'].map(label_mapping)\n",
    "\n",
    "print(\"Train NaN check:\")\n",
    "print(f\"Content: {train_df['content'].isna().sum()}\")\n",
    "print(f\"Labels: {train_df['binary_label'].isna().sum()}\")\n",
    "\n",
    "print(\"\\nValidation NaN check:\")\n",
    "print(f\"Content: {val_df['content'].isna().sum()}\")\n",
    "print(f\"Labels: {val_df['binary_label'].isna().sum()}\")\n",
    "\n",
    "# Create pipeline\n",
    "model = Pipeline([\n",
    "    ('tfidf', TfidfVectorizer(max_features=1000)),  # Reduce dimensionality\n",
    "    ('clf', MultinomialNB())\n",
    "])\n",
    "\n",
    "# Train\n",
    "model.fit(train_df['content'], train_df['binary_label'])\n",
    "\n",
    "y_pred = model.predict(val_df['content'])\n",
    "print(classification_report(val_df['binary_label'], y_pred))"
   ]
  },
  {
   "cell_type": "code",
   "execution_count": 7,
   "id": "ccf9f7b4",
   "metadata": {},
   "outputs": [
    {
     "name": "stdout",
     "output_type": "stream",
     "text": [
      "   word_count  char_count  avg_word_length\n",
      "0        1245        7976         6.406426\n",
      "1          81         497         6.135802\n",
      "2         151        1023         6.774834\n",
      "3         177        1040         5.875706\n",
      "4         959        5658         5.899896\n"
     ]
    }
   ],
   "source": [
    "# Create simple meta-data features\n",
    "df_processed['word_count'] = df_processed['content'].apply(lambda x: len(str(x).split()))\n",
    "df_processed['char_count'] = df_processed['content'].apply(lambda x: len(str(x)))\n",
    "df_processed['avg_word_length'] = df_processed['char_count'] / df_processed['word_count']\n",
    "\n",
    "# Check the result\n",
    "print(df_processed[['word_count', 'char_count', 'avg_word_length']].head())\n",
    "\n"
   ]
  },
  {
   "cell_type": "code",
   "execution_count": 9,
   "id": "66e1c2dd",
   "metadata": {},
   "outputs": [
    {
     "name": "stdout",
     "output_type": "stream",
     "text": [
      "        word_count  char_count  avg_word_length\n",
      "447564          32         213         6.656250\n",
      "788648         643        3834         5.962675\n",
      "524854        1379        8513         6.173314\n",
      "684620         107         637         5.953271\n",
      "164967         812        4992         6.147783\n",
      "        word_count  char_count  avg_word_length\n",
      "515684         179        1047         5.849162\n",
      "742404         224        1418         6.330357\n",
      "806525         916        5613         6.127729\n",
      "326627          19         128         6.736842\n",
      "132704         338        2158         6.384615\n"
     ]
    }
   ],
   "source": [
    "train_df['word_count'] = train_df['content'].apply(lambda x: len(str(x).split()))\n",
    "train_df['char_count'] = train_df['content'].apply(lambda x: len(str(x)))\n",
    "train_df['avg_word_length'] = train_df['char_count'] / train_df['word_count']\n",
    "\n",
    "print(train_df[['word_count', 'char_count', 'avg_word_length']].head())\n",
    "\n",
    "\n",
    "val_df['word_count'] = val_df['content'].apply(lambda x: len(str(x).split()))\n",
    "val_df['char_count'] = val_df['content'].apply(lambda x: len(str(x)))\n",
    "val_df['avg_word_length'] = val_df['char_count'] / val_df['word_count']\n",
    "print(val_df[['word_count', 'char_count', 'avg_word_length']].head())\n",
    "\n"
   ]
  },
  {
   "cell_type": "code",
   "execution_count": 13,
   "id": "90bc3cd7",
   "metadata": {},
   "outputs": [
    {
     "name": "stdout",
     "output_type": "stream",
     "text": [
      "              precision    recall  f1-score   support\n",
      "\n",
      "        fake       0.94      0.97      0.95     62151\n",
      "    reliable       0.89      0.79      0.84     19120\n",
      "\n",
      "    accuracy                           0.93     81271\n",
      "   macro avg       0.92      0.88      0.90     81271\n",
      "weighted avg       0.93      0.93      0.93     81271\n",
      "\n"
     ]
    }
   ],
   "source": [
    "from sklearn.compose import ColumnTransformer\n",
    "from sklearn.pipeline import Pipeline\n",
    "from sklearn.preprocessing import StandardScaler\n",
    "from sklearn.linear_model import LogisticRegression\n",
    "from sklearn.feature_extraction.text import TfidfVectorizer\n",
    "from sklearn.metrics import classification_report\n",
    "\n",
    "# Meta-data features\n",
    "for df in [train_df, val_df]:\n",
    "    df['word_count'] = df['content'].apply(lambda x: len(str(x).split()))\n",
    "    df['char_count'] = df['content'].apply(lambda x: len(str(x)))\n",
    "    df['avg_word_length'] = df['char_count'] / (df['word_count'] + 1e-5)\n",
    "\n",
    "X_train = train_df[['content', 'word_count', 'char_count', 'avg_word_length']]\n",
    "X_val = val_df[['content', 'word_count', 'char_count', 'avg_word_length']]\n",
    "y_train = train_df['binary_label']\n",
    "y_val = val_df['binary_label']\n",
    "\n",
    "preprocessor = ColumnTransformer(transformers=[\n",
    "    ('text', TfidfVectorizer(max_features=1000), 'content'),\n",
    "    ('meta', StandardScaler(), ['word_count', 'char_count', 'avg_word_length'])\n",
    "])\n",
    "\n",
    "pipeline = Pipeline([\n",
    "    ('features', preprocessor),\n",
    "    ('classifier', LogisticRegression(max_iter=500, solver='liblinear', random_state=42))\n",
    "])\n",
    "\n",
    "pipeline.fit(X_train, y_train)\n",
    "y_pred = pipeline.predict(X_val)\n",
    "print(classification_report(y_val, y_pred))\n"
   ]
  },
  {
   "cell_type": "markdown",
   "id": "10afddfa",
   "metadata": {},
   "source": [
    "# Fakenewscorpus dataset - Simple and Advanced Models "
   ]
  },
  {
   "cell_type": "code",
   "execution_count": 3,
   "id": "d7870c65",
   "metadata": {},
   "outputs": [
    {
     "name": "stderr",
     "output_type": "stream",
     "text": [
      "[nltk_data] Downloading package stopwords to\n",
      "[nltk_data]     C:\\Users\\sindh\\AppData\\Roaming\\nltk_data...\n",
      "[nltk_data]   Package stopwords is already up-to-date!\n"
     ]
    },
    {
     "data": {
      "text/plain": [
       "True"
      ]
     },
     "execution_count": 3,
     "metadata": {},
     "output_type": "execute_result"
    }
   ],
   "source": [
    "# Step 1: Importing Libraries\n",
    "import pandas as pd\n",
    "import numpy as np\n",
    "import nltk\n",
    "import joblib\n",
    "\n",
    "from sklearn.naive_bayes import MultinomialNB\n",
    "from sklearn.model_selection import train_test_split\n",
    "from sklearn.metrics import classification_report\n",
    "from sklearn.metrics import accuracy_score, precision_recall_fscore_support\n",
    "from sklearn.pipeline import Pipeline\n",
    "from sklearn.feature_extraction.text import TfidfVectorizer\n",
    "\n",
    "\n",
    "nltk.download('stopwords')"
   ]
  },
  {
   "cell_type": "markdown",
   "id": "f3bb1b4a",
   "metadata": {},
   "source": [
    "### Step 2: Load and Explore Data"
   ]
  },
  {
   "cell_type": "code",
   "execution_count": 4,
   "id": "a4fb5863",
   "metadata": {},
   "outputs": [],
   "source": [
    "df = pd.read_csv(r\"D:\\1_LUT_Masters\\2 Spring 2025\\Intelligent Systems\\Project\\code\\preprocessed_news.csv\")"
   ]
  },
  {
   "cell_type": "code",
   "execution_count": 5,
   "id": "41cddd69",
   "metadata": {},
   "outputs": [
    {
     "data": {
      "text/html": [
       "<div>\n",
       "<style scoped>\n",
       "    .dataframe tbody tr th:only-of-type {\n",
       "        vertical-align: middle;\n",
       "    }\n",
       "\n",
       "    .dataframe tbody tr th {\n",
       "        vertical-align: top;\n",
       "    }\n",
       "\n",
       "    .dataframe thead th {\n",
       "        text-align: right;\n",
       "    }\n",
       "</style>\n",
       "<table border=\"1\" class=\"dataframe\">\n",
       "  <thead>\n",
       "    <tr style=\"text-align: right;\">\n",
       "      <th></th>\n",
       "      <th>content</th>\n",
       "      <th>type</th>\n",
       "      <th>processed_content</th>\n",
       "    </tr>\n",
       "  </thead>\n",
       "  <tbody>\n",
       "    <tr>\n",
       "      <th>0</th>\n",
       "      <td>The Mainstream Media has always been a Propaga...</td>\n",
       "      <td>fake</td>\n",
       "      <td>mainstream media alway propaganda tool establi...</td>\n",
       "    </tr>\n",
       "    <tr>\n",
       "      <th>1</th>\n",
       "      <td>Could Islam Destroy America?\\n\\nHeadline: Bitc...</td>\n",
       "      <td>fake</td>\n",
       "      <td>could islam destroy america headlin bitcoin bl...</td>\n",
       "    </tr>\n",
       "    <tr>\n",
       "      <th>2</th>\n",
       "      <td>SC barber, customers fire on, kill robbery sus...</td>\n",
       "      <td>fake</td>\n",
       "      <td>sc barber custom fire kill robberi suspect kid...</td>\n",
       "    </tr>\n",
       "    <tr>\n",
       "      <th>3</th>\n",
       "      <td>Camping Bus\\n\\n% of readers think this story i...</td>\n",
       "      <td>fake</td>\n",
       "      <td>camp bu reader think stori fact add two cent h...</td>\n",
       "    </tr>\n",
       "    <tr>\n",
       "      <th>4</th>\n",
       "      <td>Take heart, Sanders supporters. We’re down, bu...</td>\n",
       "      <td>political</td>\n",
       "      <td>take heart sander support berni difficult path...</td>\n",
       "    </tr>\n",
       "  </tbody>\n",
       "</table>\n",
       "</div>"
      ],
      "text/plain": [
       "                                             content       type  \\\n",
       "0  The Mainstream Media has always been a Propaga...       fake   \n",
       "1  Could Islam Destroy America?\\n\\nHeadline: Bitc...       fake   \n",
       "2  SC barber, customers fire on, kill robbery sus...       fake   \n",
       "3  Camping Bus\\n\\n% of readers think this story i...       fake   \n",
       "4  Take heart, Sanders supporters. We’re down, bu...  political   \n",
       "\n",
       "                                   processed_content  \n",
       "0  mainstream media alway propaganda tool establi...  \n",
       "1  could islam destroy america headlin bitcoin bl...  \n",
       "2  sc barber custom fire kill robberi suspect kid...  \n",
       "3  camp bu reader think stori fact add two cent h...  \n",
       "4  take heart sander support berni difficult path...  "
      ]
     },
     "execution_count": 5,
     "metadata": {},
     "output_type": "execute_result"
    }
   ],
   "source": [
    "df.head()"
   ]
  },
  {
   "cell_type": "code",
   "execution_count": 6,
   "id": "f97d7465",
   "metadata": {},
   "outputs": [
    {
     "name": "stdout",
     "output_type": "stream",
     "text": [
      "Index(['content', 'type', 'processed_content'], dtype='object')\n"
     ]
    }
   ],
   "source": [
    "print(df.columns)"
   ]
  },
  {
   "cell_type": "markdown",
   "id": "6569f952",
   "metadata": {},
   "source": [
    "### Step 3: Preprocessing & Label Mapping"
   ]
  },
  {
   "cell_type": "code",
   "execution_count": 7,
   "id": "8b42e947",
   "metadata": {},
   "outputs": [],
   "source": [
    "label_mapping = {\n",
    "    'fake': 'fake', 'political': 'fake', 'conspiracy': 'fake', 'bias': 'fake',\n",
    "    'satire': 'fake', 'clickbait': 'fake', 'junksci': 'fake', 'unreliable': 'fake',\n",
    "    'hate': 'fake', 'unknown': 'fake', 'rumor': 'fake', 'reliable': 'reliable'\n",
    "}\n",
    "df['binary_label'] = df['type'].map(label_mapping)\n"
   ]
  },
  {
   "cell_type": "markdown",
   "id": "6ac717c7",
   "metadata": {},
   "source": [
    "### Step 4: Simple Baseline Model (TF-IDF + Naive Bayes)"
   ]
  },
  {
   "cell_type": "code",
   "execution_count": 8,
   "id": "d1c5d400",
   "metadata": {},
   "outputs": [
    {
     "name": "stdout",
     "output_type": "stream",
     "text": [
      "Classification Report for Simple Baseline Model (TF-IDF + Naive Bayes)\n",
      "              precision    recall  f1-score   support\n",
      "\n",
      "        fake       0.88      0.99      0.93    124302\n",
      "    reliable       0.96      0.55      0.70     38241\n",
      "\n",
      "    accuracy                           0.89    162543\n",
      "   macro avg       0.92      0.77      0.82    162543\n",
      "weighted avg       0.90      0.89      0.88    162543\n",
      "\n"
     ]
    }
   ],
   "source": [
    "train_df, val_df = train_test_split(df, test_size=0.2, stratify=df['binary_label'], random_state=42)\n",
    "\n",
    "model = Pipeline([\n",
    "    ('tfidf', TfidfVectorizer(max_features=1000)),\n",
    "    ('nb', MultinomialNB())\n",
    "])\n",
    "model.fit(train_df['content'], train_df['binary_label'])\n",
    "preds = model.predict(val_df['content'])\n",
    "print(\"Classification Report for Simple Baseline Model (TF-IDF + Naive Bayes)\") \n",
    "print(classification_report(val_df['binary_label'], preds))\n"
   ]
  },
  {
   "cell_type": "markdown",
   "id": "79fbeb2c",
   "metadata": {},
   "source": [
    "### Step 5: Save Simple Model"
   ]
  },
  {
   "cell_type": "code",
   "execution_count": 7,
   "id": "6f5f6f7b",
   "metadata": {},
   "outputs": [
    {
     "name": "stdout",
     "output_type": "stream",
     "text": [
      "Simple Model saved at: ['simple_model.joblib']\n"
     ]
    }
   ],
   "source": [
    "print(\"Simple Model saved at:\", joblib.dump(model, 'simple_model.joblib'))"
   ]
  },
  {
   "cell_type": "markdown",
   "id": "07a74d63",
   "metadata": {},
   "source": [
    "### Step 6: Load Pretrained DistilBERT Advanced Model"
   ]
  },
  {
   "cell_type": "code",
   "execution_count": 9,
   "id": "0ed5d98b",
   "metadata": {},
   "outputs": [
    {
     "name": "stdout",
     "output_type": "stream",
     "text": [
      "Torch: 2.5.1+cu121\n",
      "CUDA: 12.1\n",
      "CUDA available: True\n",
      "GPU: NVIDIA GeForce GTX 1660 Ti\n"
     ]
    }
   ],
   "source": [
    "import torch\n",
    "print(\"Torch:\", torch.__version__)\n",
    "print(\"CUDA:\", torch.version.cuda)\n",
    "print(\"CUDA available:\", torch.cuda.is_available())\n",
    "print(\"GPU:\", torch.cuda.get_device_name(0))\n"
   ]
  },
  {
   "cell_type": "code",
   "execution_count": 10,
   "id": "8cf4cc60",
   "metadata": {},
   "outputs": [
    {
     "name": "stderr",
     "output_type": "stream",
     "text": [
      "d:\\1_LUT_Masters\\2 Spring 2025\\Intelligent Systems\\Project\\.venv\\lib\\site-packages\\tqdm\\auto.py:21: TqdmWarning: IProgress not found. Please update jupyter and ipywidgets. See https://ipywidgets.readthedocs.io/en/stable/user_install.html\n",
      "  from .autonotebook import tqdm as notebook_tqdm\n"
     ]
    }
   ],
   "source": [
    "from torch.utils.data import Dataset\n",
    "from transformers import DistilBertTokenizerFast, DistilBertForSequenceClassification, Trainer, TrainingArguments\n",
    "from tqdm import tqdm"
   ]
  },
  {
   "cell_type": "code",
   "execution_count": null,
   "id": "3dfbe6cb",
   "metadata": {},
   "outputs": [
    {
     "name": "stdout",
     "output_type": "stream",
     "text": [
      "Total rows in 10% of 27 gb fakenews dataset: 20671771\n"
     ]
    }
   ],
   "source": [
    "n_rows = sum(1 for _ in open(r'D:\\1_LUT_Masters\\2 Spring 2025\\Intelligent Systems\\Project\\code\\preprocessed_news.csv', 'r', encoding='utf-8', errors='ignore')) - 1\n",
    "print(f\"Total rows in 10% of 27 gb fakenews dataset: {n_rows}\")"
   ]
  },
  {
   "cell_type": "code",
   "execution_count": null,
   "id": "964370c2",
   "metadata": {},
   "outputs": [
    {
     "name": "stdout",
     "output_type": "stream",
     "text": [
      "Available system RAM: 2.94 GB\n"
     ]
    }
   ],
   "source": [
    "import psutil\n",
    "ram_gb = psutil.virtual_memory().available / 1e9\n",
    "print(f\"Available system RAM: {ram_gb:.2f} GB\")"
   ]
  },
  {
   "cell_type": "code",
   "execution_count": 13,
   "id": "cba75389",
   "metadata": {},
   "outputs": [
    {
     "name": "stdout",
     "output_type": "stream",
     "text": [
      "Recommended chunk size: 516794\n"
     ]
    }
   ],
   "source": [
    "#  Estimating optimal chunk size\n",
    "if ram_gb >= 16:\n",
    "    chunk_size = int(n_rows / 10)\n",
    "elif 8 <= ram_gb < 16:\n",
    "    chunk_size = int(n_rows / 20)\n",
    "else:\n",
    "    chunk_size = int(n_rows / 40)\n",
    "\n",
    "print(f\"Recommended chunk size: {chunk_size}\")"
   ]
  },
  {
   "cell_type": "code",
   "execution_count": 14,
   "id": "e475366d",
   "metadata": {},
   "outputs": [],
   "source": [
    "from transformers import logging\n",
    "logging.set_verbosity_error()"
   ]
  },
  {
   "cell_type": "code",
   "execution_count": 15,
   "id": "a6c8c59a",
   "metadata": {},
   "outputs": [],
   "source": [
    "# Safety check\n",
    "import os\n",
    "assert not os.path.exists(\"torch.py\"), \"You have a file named 'torch.py' — rename it to avoid import conflicts.\""
   ]
  },
  {
   "cell_type": "code",
   "execution_count": 16,
   "id": "115aa6c9",
   "metadata": {},
   "outputs": [],
   "source": [
    "# assigning parameters\n",
    "super_chunk_size = 516_794/2\n",
    "sub_chunk_parts = 5\n",
    "sub_chunk_size = super_chunk_size // sub_chunk_parts"
   ]
  },
  {
   "cell_type": "code",
   "execution_count": 17,
   "id": "54e8ee04",
   "metadata": {},
   "outputs": [],
   "source": [
    "# Setup\n",
    "device = torch.device(\"cuda\" if torch.cuda.is_available() else \"cpu\")"
   ]
  },
  {
   "cell_type": "code",
   "execution_count": 18,
   "id": "344e3bbb",
   "metadata": {},
   "outputs": [],
   "source": [
    "#  writing a class\n",
    "class NewsDataset(Dataset):\n",
    "    def __init__(self, encodings, labels):\n",
    "        self.encodings = encodings\n",
    "        self.labels = labels\n",
    "\n",
    "    def __len__(self):\n",
    "        return len(self.labels)\n",
    "\n",
    "    def __getitem__(self, idx):\n",
    "        return {\n",
    "            'input_ids': self.encodings['input_ids'][idx],\n",
    "            'attention_mask': self.encodings['attention_mask'][idx],\n",
    "            'labels': self.labels[idx]\n",
    "        }"
   ]
  },
  {
   "cell_type": "code",
   "execution_count": 19,
   "id": "40aecdc9",
   "metadata": {},
   "outputs": [],
   "source": [
    "#  wtiting a function for tokenizer\n",
    "tokenizer = DistilBertTokenizerFast.from_pretrained('distilbert-base-uncased')\n",
    "def tokenize_texts(texts, max_length=64):\n",
    "    return tokenizer(\n",
    "        texts,\n",
    "        max_length=max_length,\n",
    "        padding='max_length',\n",
    "        truncation=True,\n",
    "        return_tensors='pt'\n",
    "    )"
   ]
  },
  {
   "cell_type": "code",
   "execution_count": null,
   "id": "3eff9c0d",
   "metadata": {},
   "outputs": [],
   "source": [
    "#Writing a Function to save model and tokenizer\n",
    "def save_model_and_tokenizer(model, tokenizer, super_chunk_num, sub_i):\n",
    "    model.save_pretrained(f'./saved_advanced_model_sc{super_chunk_num}_sub{sub_i}')\n",
    "    tokenizer.save_pretrained(f'./saved_advanced_model_sc{super_chunk_num}_sub{sub_i}')"
   ]
  },
  {
   "cell_type": "code",
   "execution_count": null,
   "id": "2f99b708",
   "metadata": {},
   "outputs": [
    {
     "name": "stderr",
     "output_type": "stream",
     "text": [
      "d:\\1_LUT_Masters\\2 Spring 2025\\Intelligent Systems\\Project\\.venv\\lib\\site-packages\\numpy\\_core\\fromnumeric.py:57: FutureWarning: 'DataFrame.swapaxes' is deprecated and will be removed in a future version. Please use 'DataFrame.transpose' instead.\n",
      "  return bound(*args, **kwds)\n",
      "C:\\Users\\sindh\\AppData\\Local\\Temp\\ipykernel_24420\\1011293975.py:21: SettingWithCopyWarning: \n",
      "A value is trying to be set on a copy of a slice from a DataFrame.\n",
      "Try using .loc[row_indexer,col_indexer] = value instead\n",
      "\n",
      "See the caveats in the documentation: https://pandas.pydata.org/pandas-docs/stable/user_guide/indexing.html#returning-a-view-versus-a-copy\n",
      "  chunk['label'] = chunk['label'].astype(int)\n"
     ]
    },
    {
     "name": "stdout",
     "output_type": "stream",
     "text": [
      "{'loss': 0.1319, 'grad_norm': 3.0969388484954834, 'learning_rate': 5.700934579439252e-06, 'epoch': 0.8928571428571429}\n",
      "{'train_runtime': 705.7109, 'train_samples_per_second': 25.387, 'train_steps_per_second': 1.587, 'train_loss': 0.12713078856468202, 'epoch': 1.0}\n",
      "\n",
      "Training Completed\n",
      "\n",
      " Advance Model Final Classification Report :\n",
      "              precision    recall  f1-score   support\n",
      "\n",
      "        fake       0.99      0.92      0.96      1481\n",
      "   political       0.96      1.00      0.98      2999\n",
      "\n",
      "    accuracy                           0.97      4480\n",
      "   macro avg       0.98      0.96      0.97      4480\n",
      "weighted avg       0.97      0.97      0.97      4480\n",
      "\n",
      "Stopping by user request.\n"
     ]
    }
   ],
   "source": [
    "# Training in loop\n",
    "def train_on_chunks(df):\n",
    "    reader = pd.read_csv(df, chunksize=super_chunk_size)\n",
    "    super_chunk_num = 1\n",
    "\n",
    "    for super_chunk in reader:\n",
    "    \n",
    "        sub_chunks = np.array_split(super_chunk, sub_chunk_parts)\n",
    "\n",
    "        for sub_i, chunk in enumerate(sub_chunks, start=1):\n",
    "            \n",
    "\n",
    "\n",
    "            chunk['label'] = chunk['type'].map({'fake': 0, 'political': 1})\n",
    "            chunk = chunk.dropna(subset=['label'])\n",
    "            chunk['label'] = chunk['label'].astype(int)\n",
    "\n",
    "            if chunk.empty:\n",
    "                print(f\"Skipped Sub-Chunk {sub_i} (no valid rows)\")\n",
    "                continue\n",
    "\n",
    "            texts = chunk['content'].astype(str).tolist()\n",
    "            labels = torch.tensor(chunk['label'].values)\n",
    "            encodings = tokenize_texts(texts)\n",
    "\n",
    "            try:\n",
    "                train_idx, test_idx = train_test_split(\n",
    "                    np.arange(len(labels)),\n",
    "                    test_size=0.2,\n",
    "                    stratify=labels,\n",
    "                    random_state=42\n",
    "                )\n",
    "            except ValueError as e:\n",
    "                print(f\"Skipped Sub-Chunk {sub_i} (split error: {e})\")\n",
    "                continue\n",
    "\n",
    "            train_dataset = NewsDataset({k: v[train_idx] for k, v in encodings.items()}, labels[train_idx])\n",
    "            test_dataset = NewsDataset({k: v[test_idx] for k, v in encodings.items()}, labels[test_idx])\n",
    "\n",
    "            model = DistilBertForSequenceClassification.from_pretrained('distilbert-base-uncased', num_labels=2)\n",
    "            model.to(device)\n",
    "\n",
    "            training_args = TrainingArguments(\n",
    "                output_dir=f'./results_sc{super_chunk_num}_sub{sub_i}',\n",
    "                num_train_epochs=1,\n",
    "                per_device_train_batch_size=16,\n",
    "                per_device_eval_batch_size=16,\n",
    "                warmup_steps=50,\n",
    "                weight_decay=0.01,\n",
    "                logging_dir=f'./logs_sc{super_chunk_num}_sub{sub_i}',\n",
    "                logging_steps=1000,\n",
    "                disable_tqdm=True,\n",
    "                fp16=torch.cuda.is_available()\n",
    "            )\n",
    "\n",
    "            trainer = Trainer(\n",
    "                model=model,\n",
    "                args=training_args,\n",
    "                train_dataset=train_dataset,\n",
    "                eval_dataset=test_dataset\n",
    "            )\n",
    "\n",
    "            trainer.train()\n",
    "            predictions = trainer.predict(test_dataset)\n",
    "            pred_labels = np.argmax(predictions.predictions, axis=1)\n",
    "\n",
    "            print(f\"\\nTraining Completed\")\n",
    "            \n",
    "            # after training save the model and tokenizer \n",
    "            save_model_and_tokenizer(model, tokenizer, super_chunk_num, sub_i)\n",
    "            \n",
    "            # Printing classification report\n",
    "            if sub_i == 1:\n",
    "                print(\"\\n Advance Model Final Classification Report :\")\n",
    "                print(classification_report(labels[test_idx], pred_labels, target_names=['fake', 'political']))\n",
    "\n",
    "            # Asking user if they want to run next sub-chunk\n",
    "            choice = input(f\"Do you want to run the next sub-chunk? (y/n): \").strip().lower()\n",
    "            if choice != 'y':\n",
    "                print(\"Stopping by user request.\")\n",
    "                return\n",
    "\n",
    "        # Asking user if they want to run next super chunk\n",
    "        choice = input(f\"\\nFinished Super Chunk {super_chunk_num}. Run next super chunk? (y/n): \").strip().lower()\n",
    "        if choice != 'y':\n",
    "            print(\"Training stopped by user.\")\n",
    "            break\n",
    "\n",
    "        super_chunk_num += 1\n",
    "\n",
    "df = r\"D:\\1_LUT_Masters\\2 Spring 2025\\Intelligent Systems\\Project\\code\\preprocessed_news.csv\"\n",
    "train_on_chunks(df)"
   ]
  },
  {
   "cell_type": "markdown",
   "id": "7bac6308",
   "metadata": {},
   "source": [
    "## 🔹 LIAR Dataset: Cross-Domain Evaluation\n",
    "### Step 1: Import Libraries"
   ]
  },
  {
   "cell_type": "code",
   "execution_count": 10,
   "id": "42fbfd6c",
   "metadata": {},
   "outputs": [],
   "source": [
    "from sklearn.metrics import confusion_matrix"
   ]
  },
  {
   "cell_type": "markdown",
   "id": "c15cf34c",
   "metadata": {},
   "source": [
    "### Step 2: Load & Preprocess LIAR Dataset"
   ]
  },
  {
   "cell_type": "code",
   "execution_count": 27,
   "id": "9131d15d",
   "metadata": {},
   "outputs": [],
   "source": [
    "# Step 1: Loading test.tsv from LIAR Dataset\n",
    "original_column_names = [\n",
    "    \"id\", \"label\", \"statement\", \"subject\", \"speaker\", \"job_title\", \"state\",\n",
    "    \"party\", \"barely_true\", \"false\", \"half_true\", \"mostly_true\", \"pants_on_fire\", \"context\"\n",
    "]\n",
    "liar_test = pd.read_csv(\n",
    "    \"D:/1_LUT_Masters/2 Spring 2025/Intelligent Systems/Project/dataset/liar_dataset/test.tsv\",\n",
    "    sep=\"\\t\", names=original_column_names, header=None)"
   ]
  },
  {
   "cell_type": "code",
   "execution_count": 28,
   "id": "26e66d1c",
   "metadata": {},
   "outputs": [
    {
     "name": "stdout",
     "output_type": "stream",
     "text": [
      "LIAR Dataset Preview:\n",
      "           id       label                                          statement  \\\n",
      "0  11972.json        true  Building a wall on the U.S.-Mexico border will...   \n",
      "1  11685.json       false  Wisconsin is on pace to double the number of l...   \n",
      "2  11096.json       false  Says John McCain has done nothing to help the ...   \n",
      "3   5209.json   half-true  Suzanne Bonamici supports a plan that will cut...   \n",
      "4   9524.json  pants-fire  When asked by a reporter whether hes at the ce...   \n",
      "\n",
      "                                             subject  \\\n",
      "0                                        immigration   \n",
      "1                                               jobs   \n",
      "2                    military,veterans,voting-record   \n",
      "3  medicare,message-machine-2012,campaign-adverti...   \n",
      "4  campaign-finance,legal-issues,campaign-adverti...   \n",
      "\n",
      "                            speaker             job_title      state  \\\n",
      "0                        rick-perry              Governor      Texas   \n",
      "1                 katrina-shankland  State representative  Wisconsin   \n",
      "2                      donald-trump       President-Elect   New York   \n",
      "3                     rob-cornilles            consultant     Oregon   \n",
      "4  state-democratic-party-wisconsin                   NaN  Wisconsin   \n",
      "\n",
      "        party  barely_true  false  half_true  mostly_true  pants_on_fire  \\\n",
      "0  republican           30     30         42           23             18   \n",
      "1    democrat            2      1          0            0              0   \n",
      "2  republican           63    114         51           37             61   \n",
      "3  republican            1      1          3            1              1   \n",
      "4    democrat            5      7          2            2              7   \n",
      "\n",
      "                        context  \n",
      "0               Radio interview  \n",
      "1             a news conference  \n",
      "2  comments on ABC's This Week.  \n",
      "3                  a radio show  \n",
      "4                   a web video  \n"
     ]
    }
   ],
   "source": [
    "print(\"LIAR Dataset Preview:\")\n",
    "print(liar_test.head())"
   ]
  },
  {
   "cell_type": "code",
   "execution_count": 29,
   "id": "16361188",
   "metadata": {},
   "outputs": [
    {
     "name": "stdout",
     "output_type": "stream",
     "text": [
      "LIAR Dataset Columns:\n",
      "['id', 'label', 'statement', 'subject', 'speaker', 'job_title', 'state', 'party', 'barely_true', 'false', 'half_true', 'mostly_true', 'pants_on_fire', 'context']\n"
     ]
    }
   ],
   "source": [
    "print(\"LIAR Dataset Columns:\")\n",
    "print(liar_test.columns.tolist())"
   ]
  },
  {
   "cell_type": "code",
   "execution_count": 31,
   "id": "c292f029",
   "metadata": {},
   "outputs": [
    {
     "name": "stdout",
     "output_type": "stream",
     "text": [
      "LIAR Dataset Columns after adding the columns ----- text, content, type, binary_label:\n",
      "['id', 'label', 'statement', 'subject', 'speaker', 'job_title', 'state', 'party', 'barely_true', 'false', 'half_true', 'mostly_true', 'pants_on_fire', 'context', 'type', 'content', 'binary_label']\n"
     ]
    }
   ],
   "source": [
    "print(\"LIAR Dataset Columns after adding the columns ----- text, content, type, binary_label:\")\n",
    "print(liar_test.columns.tolist())"
   ]
  },
  {
   "cell_type": "code",
   "execution_count": 34,
   "id": "a842c2d3",
   "metadata": {},
   "outputs": [
    {
     "name": "stdout",
     "output_type": "stream",
     "text": [
      "\n",
      " Cleaned and Binary Mapped LIAR Test Data:\n",
      "        label      type  binary_label\n",
      "0        true  reliable             1\n",
      "1       false      fake             0\n",
      "2       false      fake             0\n",
      "3   half-true      fake             0\n",
      "4  pants-fire      fake             0\n"
     ]
    }
   ],
   "source": [
    "label_mapping = {\n",
    "    \"true\": \"reliable\",\n",
    "    \"mostly-true\": \"reliable\",\n",
    "    \"half-true\": \"fake\",\n",
    "    \"barely-true\": \"fake\",\n",
    "    \"false\": \"fake\",\n",
    "    \"pants-fire\": \"fake\"\n",
    "}\n",
    "\n",
    "liar_test[\"type\"] = liar_test[\"label\"].map(label_mapping)\n",
    "liar_test[\"content\"] = liar_test[\"statement\"]\n",
    "liar_test = liar_test.dropna(subset=[\"content\", \"type\"])\n",
    "liar_test[\"binary_label\"] = liar_test[\"type\"].map({\"fake\": 0, \"reliable\": 1})\n",
    "\n",
    "print(\"\\n Cleaned and Binary Mapped LIAR Test Data:\")\n",
    "print(liar_test[[\"label\", \"type\", \"binary_label\"]].head())"
   ]
  },
  {
   "cell_type": "markdown",
   "id": "3e4c1032",
   "metadata": {},
   "source": [
    "### Step 3: Evaluate Saved Simple and Advanced Model on LIAR Dataset"
   ]
  },
  {
   "cell_type": "code",
   "execution_count": 27,
   "id": "5c21372f",
   "metadata": {},
   "outputs": [],
   "source": [
    "# Load model\n",
    "simple_model = joblib.load(\"simple_model.joblib\")"
   ]
  },
  {
   "cell_type": "code",
   "execution_count": null,
   "id": "b3ab5537",
   "metadata": {},
   "outputs": [
    {
     "name": "stdout",
     "output_type": "stream",
     "text": [
      "\n",
      "Simple Model Evaluation on LIAR Dataset\n",
      "              precision    recall  f1-score   support\n",
      "\n",
      "        fake       0.65      1.00      0.78       818\n",
      "    reliable       0.62      0.01      0.02       449\n",
      "\n",
      "    accuracy                           0.65      1267\n",
      "   macro avg       0.64      0.50      0.40      1267\n",
      "weighted avg       0.64      0.65      0.51      1267\n",
      "\n",
      "Confusion Matrix:\n",
      " [[815   3]\n",
      " [444   5]]\n",
      "\n",
      "Advanced Model Evaluation on LIAR Dataset (DistilBERT)\n",
      "              precision    recall  f1-score   support\n",
      "\n",
      "        fake       0.00      0.00      0.00       818\n",
      "    reliable       0.35      1.00      0.52       449\n",
      "\n",
      "    accuracy                           0.35      1267\n",
      "   macro avg       0.18      0.50      0.26      1267\n",
      "weighted avg       0.13      0.35      0.19      1267\n",
      "\n",
      "Confusion Matrix:\n",
      " [[  0 818]\n",
      " [  0 449]]\n",
      "\n",
      " Comparison Table\n",
      "                   Model  Accuracy  Precision    Recall  F1 Score\n",
      "0   Simple (Naive Bayes)  0.647198    0.62500  0.011136  0.021882\n",
      "1  Advanced (DistilBERT)  0.354380    0.35438  1.000000  0.523310\n"
     ]
    },
    {
     "name": "stderr",
     "output_type": "stream",
     "text": [
      "d:\\1_LUT_Masters\\2 Spring 2025\\Intelligent Systems\\Project\\.venv\\lib\\site-packages\\sklearn\\metrics\\_classification.py:1565: UndefinedMetricWarning: Precision is ill-defined and being set to 0.0 in labels with no predicted samples. Use `zero_division` parameter to control this behavior.\n",
      "  _warn_prf(average, modifier, f\"{metric.capitalize()} is\", len(result))\n",
      "d:\\1_LUT_Masters\\2 Spring 2025\\Intelligent Systems\\Project\\.venv\\lib\\site-packages\\sklearn\\metrics\\_classification.py:1565: UndefinedMetricWarning: Precision is ill-defined and being set to 0.0 in labels with no predicted samples. Use `zero_division` parameter to control this behavior.\n",
      "  _warn_prf(average, modifier, f\"{metric.capitalize()} is\", len(result))\n",
      "d:\\1_LUT_Masters\\2 Spring 2025\\Intelligent Systems\\Project\\.venv\\lib\\site-packages\\sklearn\\metrics\\_classification.py:1565: UndefinedMetricWarning: Precision is ill-defined and being set to 0.0 in labels with no predicted samples. Use `zero_division` parameter to control this behavior.\n",
      "  _warn_prf(average, modifier, f\"{metric.capitalize()} is\", len(result))\n"
     ]
    }
   ],
   "source": [
    "simple_model = joblib.load(\"simple_model.joblib\")\n",
    "\n",
    "tokenizer = DistilBertTokenizerFast.from_pretrained(\"saved_advanced_model_sc1_sub1\")\n",
    "advanced_model = DistilBertForSequenceClassification.from_pretrained(\"saved_advanced_model_sc1_sub1\")\n",
    "advanced_model.eval()\n",
    "device = torch.device(\"cuda\" if torch.cuda.is_available() else \"cpu\")\n",
    "advanced_model.to(device)\n",
    "\n",
    "# Evaluation Functions\n",
    "def evaluate_simple(model, df):\n",
    "    preds = model.predict(df[\"content\"])\n",
    "\n",
    "    y_true = df[\"binary_label\"].astype(int)\n",
    "    y_pred = pd.Series(preds).map({\"fake\": 0, \"reliable\": 1}).astype(int)\n",
    "\n",
    "    acc = accuracy_score(y_true, y_pred)\n",
    "    precision, recall, f1, _ = precision_recall_fscore_support(y_true, y_pred, average=\"binary\", pos_label=1)\n",
    "    cm = confusion_matrix(y_true, y_pred)\n",
    "    report = classification_report(y_true, y_pred, labels=[0, 1], target_names=[\"fake\", \"reliable\"])\n",
    "\n",
    "    return acc, precision, recall, f1, cm, report\n",
    "\n",
    "def evaluate_advanced(model, tokenizer, df):\n",
    "    texts = df[\"content\"].astype(str).tolist()\n",
    "    labels = df[\"binary_label\"].astype(int).tolist()\n",
    "\n",
    "    inputs = tokenizer(texts, return_tensors=\"pt\", padding=True, truncation=True, max_length=64)\n",
    "    inputs = {k: v.to(device) for k, v in inputs.items()}\n",
    "\n",
    "    with torch.no_grad():\n",
    "        outputs = model(**inputs)\n",
    "        preds = torch.argmax(outputs.logits, dim=1).cpu().numpy()\n",
    "\n",
    "    acc = accuracy_score(labels, preds)\n",
    "    precision, recall, f1, _ = precision_recall_fscore_support(labels, preds, average=\"binary\", pos_label=1)\n",
    "    cm = confusion_matrix(labels, preds)\n",
    "    report = classification_report(labels, preds, labels=[0, 1], target_names=[\"fake\", \"reliable\"])\n",
    "\n",
    "    return acc, precision, recall, f1, cm, report\n",
    "\n",
    "# Run Evaluations\n",
    "print(\"\\nSimple Model Evaluation on LIAR Dataset\")\n",
    "s_acc, s_prec, s_rec, s_f1, s_cm, s_report = evaluate_simple(simple_model, liar_test)\n",
    "print(s_report)\n",
    "print(\"Confusion Matrix:\\n\", s_cm)\n",
    "\n",
    "print(\"\\nAdvanced Model Evaluation on LIAR Dataset (DistilBERT)\")\n",
    "a_acc, a_prec, a_rec, a_f1, a_cm, a_report = evaluate_advanced(advanced_model, tokenizer, liar_test)\n",
    "print(a_report)\n",
    "print(\"Confusion Matrix:\\n\", a_cm)\n",
    "\n",
    "# comparison Table\n",
    "summary = pd.DataFrame({\n",
    "    \"Model\": [\"Simple (Naive Bayes)\", \"Advanced (DistilBERT)\"],\n",
    "    \"Accuracy\": [s_acc, a_acc],\n",
    "    \"Precision\": [s_prec, a_prec],\n",
    "    \"Recall\": [s_rec, a_rec],\n",
    "    \"F1 Score\": [s_f1, a_f1]\n",
    "})\n",
    "print(\"\\n Comparison Table\")\n",
    "print(summary)\n",
    "\n",
    "\n",
    "summary.to_csv(\"liar_model_results.csv\", index=False)\n"
   ]
  },
  {
   "cell_type": "code",
   "execution_count": null,
   "id": "4c665448",
   "metadata": {},
   "outputs": [
    {
     "data": {
      "image/png": "[encoded data removed]",
      "text/plain": [
       "<Figure size 1200x500 with 4 Axes>"
      ]
     },
     "metadata": {},
     "output_type": "display_data"
    }
   ],
   "source": [
    "import matplotlib.pyplot as plt\n",
    "import seaborn as sns\n",
    "from sklearn.metrics import confusion_matrix\n",
    "\n",
    "# Confusion matrices\n",
    "simple_cm = [[815, 3],\n",
    "             [444, 5]]\n",
    "\n",
    "advanced_cm = [[1, 817],\n",
    "               [0, 449]]\n",
    "\n",
    "fig, axes = plt.subplots(1, 2, figsize=(12, 5))\n",
    "\n",
    "# simple model confusion matrix\n",
    "sns.heatmap(simple_cm, annot=True, fmt='d', cmap='Blues', ax=axes[0])\n",
    "axes[0].set_title('Simple Model (Naive Bayes)')\n",
    "axes[0].set_xlabel('Predicted')\n",
    "axes[0].set_ylabel('Actual')\n",
    "axes[0].set_xticklabels(['Fake', 'Reliable'])\n",
    "axes[0].set_yticklabels(['Fake', 'Reliable'])\n",
    "\n",
    "# advanced model confusion matrix\n",
    "sns.heatmap(advanced_cm, annot=True, fmt='d', cmap='Greens', ax=axes[1])\n",
    "axes[1].set_title('Advanced Model (DistilBERT)')\n",
    "axes[1].set_xlabel('Predicted')\n",
    "axes[1].set_ylabel('Actual')\n",
    "axes[1].set_xticklabels(['Fake', 'Reliable'])\n",
    "axes[1].set_yticklabels(['Fake', 'Reliable'])\n",
    "\n",
    "plt.tight_layout()\n",
    "plt.show()\n"
   ]
  },
  {
   "cell_type": "markdown",
   "id": "36825b72",
   "metadata": {},
   "source": [
    "### Step 4: Training with Hugging Face Trainer on LIAR Dataset"
   ]
  },
  {
   "cell_type": "code",
   "execution_count": 72,
   "id": "e1a92dfc",
   "metadata": {},
   "outputs": [
    {
     "name": "stdout",
     "output_type": "stream",
     "text": [
      "{'train_runtime': 134.4855, 'train_samples_per_second': 22.597, 'train_steps_per_second': 1.428, 'train_loss': 0.5186451276143392, 'epoch': 3.0}\n",
      "Completed Retraining the advance model for Liar dataset\n"
     ]
    }
   ],
   "source": [
    "# Split into train/val\n",
    "from sklearn.model_selection import train_test_split\n",
    "train_df, val_df = train_test_split(liar_test, test_size=0.2, stratify=liar_test[\"label\"], random_state=42)\n",
    "\n",
    "# Dataset class\n",
    "class LiarDataset(Dataset):\n",
    "    def __init__(self, texts, labels, tokenizer, max_length=64):\n",
    "        self.encodings = tokenizer(texts, truncation=True, padding=True, max_length=max_length)\n",
    "        self.labels = labels\n",
    "\n",
    "    def __getitem__(self, idx):\n",
    "        return {\n",
    "            'input_ids': torch.tensor(self.encodings['input_ids'][idx]),\n",
    "            'attention_mask': torch.tensor(self.encodings['attention_mask'][idx]),\n",
    "            'labels': torch.tensor(self.labels[idx])\n",
    "        }\n",
    "\n",
    "    def __len__(self):\n",
    "        return len(self.labels)\n",
    "\n",
    "# Tokenizer + Datasets\n",
    "tokenizer = DistilBertTokenizerFast.from_pretrained(\"distilbert-base-uncased\")\n",
    "train_dataset = LiarDataset(train_df[\"statement\"].tolist(), train_df[\"label\"].tolist(), tokenizer)\n",
    "val_dataset = LiarDataset(val_df[\"statement\"].tolist(), val_df[\"label\"].tolist(), tokenizer)\n",
    "\n",
    "# Load and Train DistilBERT\n",
    "model = DistilBertForSequenceClassification.from_pretrained(\"distilbert-base-uncased\", num_labels=2)\n",
    "\n",
    "training_args = TrainingArguments(\n",
    "    output_dir=\"./liar_test_finetuned\",\n",
    "    num_train_epochs=3,\n",
    "    per_device_train_batch_size=16,\n",
    "    per_device_eval_batch_size=16,\n",
    "    logging_dir=\"./logs_liar_test\"\n",
    ")\n",
    "\n",
    "trainer = Trainer(\n",
    "    model=model,\n",
    "    args=training_args,\n",
    "    train_dataset=train_dataset,\n",
    "    eval_dataset=val_dataset\n",
    ")\n",
    "\n",
    "trainer.train()\n",
    "\n",
    "print(\"Completed Retraining the advance model for Liar dataset\")"
   ]
  },
  {
   "cell_type": "markdown",
   "id": "0249770f",
   "metadata": {},
   "source": [
    "### Step 5: For Liar dataset Load Fine-Tuned Model and Evaluate"
   ]
  },
  {
   "cell_type": "code",
   "execution_count": 70,
   "id": "c1a7dea1",
   "metadata": {},
   "outputs": [
    {
     "name": "stdout",
     "output_type": "stream",
     "text": [
      "\n",
      " After retraining and fine-tuning the advance model Final Evaluation Report on test.tsv\n",
      "              precision    recall  f1-score   support\n",
      "\n",
      "        fake       0.87      0.87      0.87       818\n",
      "    reliable       0.77      0.76      0.76       449\n",
      "\n",
      "    accuracy                           0.83      1267\n",
      "   macro avg       0.82      0.81      0.82      1267\n",
      "weighted avg       0.83      0.83      0.83      1267\n",
      "\n"
     ]
    }
   ],
   "source": [
    "# Reload the fine-tuned model\n",
    "model_path = \"liar_test_finetuned_model\"\n",
    "model = DistilBertForSequenceClassification.from_pretrained(model_path)\n",
    "tokenizer = DistilBertTokenizerFast.from_pretrained(model_path)\n",
    "model.eval()\n",
    "device = torch.device(\"cuda\" if torch.cuda.is_available() else \"cpu\")\n",
    "model.to(device)\n",
    "\n",
    "\n",
    "# Preprocessing\n",
    "texts = liar_test[\"statement\"].astype(str).tolist()\n",
    "labels = liar_test[\"label\"].astype(int).tolist()\n",
    "\n",
    "# Tokenize\n",
    "inputs = tokenizer(texts, return_tensors=\"pt\", padding=True, truncation=True, max_length=64)\n",
    "inputs = {k: v.to(device) for k, v in inputs.items()}\n",
    "\n",
    "# Prediction\n",
    "with torch.no_grad():\n",
    "    outputs = model(**inputs)\n",
    "    preds = torch.argmax(outputs.logits, dim=1).cpu().numpy()\n",
    "\n",
    "# Evaluation\n",
    "acc = accuracy_score(labels, preds)\n",
    "precision, recall, f1, _ = precision_recall_fscore_support(labels, preds, average='binary', pos_label=1)\n",
    "cm = confusion_matrix(labels, preds)\n",
    "report = classification_report(labels, preds, target_names=[\"fake\", \"reliable\"])\n",
    "\n",
    "print(\"\\n After retraining and fine-tuning the advance model Final Evaluation Report on test.tsv\")\n",
    "print(report)"
   ]
  },
  {
   "cell_type": "code",
   "execution_count": null,
   "id": "c0fb270b",
   "metadata": {},
   "outputs": [
    {
     "data": {
      "image/png": "[encoded data removed]",
      "text/plain": [
       "<Figure size 1000x600 with 1 Axes>"
      ]
     },
     "metadata": {},
     "output_type": "display_data"
    }
   ],
   "source": [
    "import matplotlib.pyplot as plt\n",
    "\n",
    "#weighted avg scores from classification report\n",
    "scores = {\n",
    "    \"FakeCorpus Simple\": {\"precision\": 0.90, \"recall\": 0.89, \"f1\": 0.88},   \n",
    "    \"FakeCorpus Advanced\": {\"precision\": 0.97, \"recall\": 0.97, \"f1\": 0.97}, \n",
    "    \"LIAR Simple\": {\"precision\": 0.64, \"recall\": 0.65, \"f1\": 0.51},       \n",
    "    \"LIAR Advanced\": {\"precision\": 0.77, \"recall\": 0.36, \"f1\": 0.19}        \n",
    "}\n",
    "\n",
    "# Plot Settings\n",
    "labels = list(scores.keys())\n",
    "precision_scores = [scores[m][\"precision\"] for m in labels]\n",
    "recall_scores = [scores[m][\"recall\"] for m in labels]\n",
    "f1_scores = [scores[m][\"f1\"] for m in labels]\n",
    "\n",
    "x = np.arange(len(labels))\n",
    "width = 0.25\n",
    "\n",
    "# === Create Grouped Bar Chart ===\n",
    "fig, ax = plt.subplots(figsize=(10, 6))\n",
    "ax.bar(x - width, precision_scores, width, label='Precision')\n",
    "ax.bar(x, recall_scores, width, label='Recall')\n",
    "ax.bar(x + width, f1_scores, width, label='F1 Score')\n",
    "\n",
    "# === Labels and Legends ===\n",
    "ax.set_ylabel('Scores')\n",
    "ax.set_title('Model Performance Comparison (FakeNewsCorpus vs LIAR)')\n",
    "ax.set_xticks(x)\n",
    "ax.set_xticklabels(labels, rotation=15)\n",
    "ax.set_ylim([0.0, 1.05])  # Increased from 1.0 to 1.05\n",
    "ax.legend()\n",
    "ax.grid(True, linestyle='--', alpha=0.5)\n",
    "\n",
    "# === Annotate Bars ===\n",
    "for i in range(len(labels)):\n",
    "    ax.text(x[i] - width, precision_scores[i] + 0.015, f\"{precision_scores[i]:.2f}\", ha='center')\n",
    "    ax.text(x[i], recall_scores[i] + 0.015, f\"{recall_scores[i]:.2f}\", ha='center')\n",
    "    ax.text(x[i] + width, f1_scores[i] + 0.015, f\"{f1_scores[i]:.2f}\", ha='center')\n",
    "\n",
    "plt.tight_layout()\n",
    "plt.show()\n"
   ]
  }
 ],
 "metadata": {
  "language_info": {
   "name": "python"
  }
 },
 "nbformat": 4,
 "nbformat_minor": 5
}
